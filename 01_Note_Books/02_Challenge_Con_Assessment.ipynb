{
 "cells": [
  {
   "cell_type": "markdown",
   "metadata": {
    "slideshow": {
     "slide_type": "slide"
    }
   },
   "source": [
    "<div style='width: auto; float: center'/>\n",
    "<table align=\"center\">\n",
    "    <tr>\n",
    "        <th>\n",
    "                <img src=\"https://ingenieria.unal.edu.co/pri/images/catedra_header_2021.png\" style='height: 200px; width: auto; object-fit: contain;float: center'/>                                \t\t\n",
    "        </th>     \n",
    "    </tr>\n",
    "</table>\n",
    "\n",
    "</div>\n",
    "\n",
    "<div >\n",
    "  <h1 align=\"center\">  Asset Management Principles For Modern Power Systems    </h1>  \n",
    "  <h2 align=\"center\">  Unit 2: Condition Assessment     </h2>    \n",
    "\t\t\t<h3 align=\"center\">    David L. Alvarez A, Ph.D    </h3>\n",
    "\t\t\t<h4 align=\"center\">    dlalvareza@unal.edu.co      </h4>\n",
    "            <h4 align=\"center\">    Copyright (c) 2021 dlalvareza    </h4>\n",
    "</div>\t\n",
    "\n",
    "<div style='width: auto; float: center'/>\n",
    "<table align=\"center\">\n",
    "    <tr>\n",
    "        <th>\n",
    "       <img src=\"https://www.uqtr.ca/u20-img/logos/logo-uqtr-entete.png\" style='height: 75px; width: auto; object-fit: contain;float: right'/>                                \t\n",
    "        </th>                 \n",
    "        <th>\n",
    "                <img src=\"https://oraprdnt.uqtr.uquebec.ca/pls/public/docs/GSC6627/O0003430433_GREI_LOGO_court.PNG\" style='height: 75px; width: auto; object-fit: contain;float: right'/>                                \t\t\n",
    "        </th>  \n",
    "        <th>\n",
    "                <img src=\"https://oraprdnt.uqtr.uquebec.ca/pls/public/docs/GSC6627/O0003430597_MRIF_w3_couleur.png\" style='height: 75px; width: auto; object-fit: contain;float: right'/>                                \t\t\n",
    "        </th>  \n",
    "        <th>\n",
    "       <img src=\"../STATIC/EMC_ACI.svg\" style='height: 50px; width: auto; object-fit: contain;float: right'/>                                \t\n",
    "        </th>                 \n",
    "        <th>\n",
    "                <img src=\"https://unal.edu.co/typo3conf/ext/unal_skin_default/Resources/Public/images/escudoUnal_black.png\" style='height: 75px; width: auto; object-fit: contain;float: right'/>                                \t\t\n",
    "        </th>          \n",
    "    </tr>\n",
    "</table>    "
   ]
  },
  {
   "cell_type": "markdown",
   "metadata": {
    "slideshow": {
     "slide_type": "slide"
    }
   },
   "source": [
    "## CIGRE network benchmark DER in Medium Voltage Systems\n",
    "![title](../STATIC/01_CIGRE_MV_Distribution_DER_Assets_Criticality.svg)"
   ]
  },
  {
   "cell_type": "markdown",
   "metadata": {},
   "source": [
    "### Neccesary libraries"
   ]
  },
  {
   "cell_type": "code",
   "execution_count": 1,
   "metadata": {},
   "outputs": [],
   "source": [
    "import sys\n",
    "import datetime \n",
    "import pandas as pd\n",
    "import calendar\n",
    "from ipywidgets import interact\n",
    "from ipywidgets import fixed\n",
    "from bokeh.io import export_svgs\n",
    "from bokeh.io import push_notebook, show, output_notebook"
   ]
  },
  {
   "cell_type": "markdown",
   "metadata": {},
   "source": [
    "### Load PywerAPM libraries"
   ]
  },
  {
   "cell_type": "code",
   "execution_count": 2,
   "metadata": {},
   "outputs": [],
   "source": [
    "sys.path.insert(0,'../CASES/05_Challenge_Data/')\n",
    "sys.path.insert(0,'../APM/BIN/')\n",
    "from APM_Run import run_condition\n",
    "from ST_AM_Contingencies_Ploty import Plot_Asset_Condition_Assessment, Asset_Condition_by_Type\n",
    "from ST_AM_Contingencies_Ploty import Radar_Plot_by_Asset, HI_Radar_Plot_I, POF_Radar_Plot_I \n",
    "from PywerAM_bokeh_tools import plot_condition_forecast, Plot_HI_Forecast_Stacked,plot_condition_assessment,plot_decision_making, plot_scenario"
   ]
  },
  {
   "cell_type": "markdown",
   "metadata": {},
   "source": [
    "# 1. Condition Assessment"
   ]
  },
  {
   "cell_type": "markdown",
   "metadata": {},
   "source": [
    "## 1.1 Import case settings"
   ]
  },
  {
   "cell_type": "code",
   "execution_count": 3,
   "metadata": {},
   "outputs": [],
   "source": [
    "from PywerAPM_Case_Setting import*"
   ]
  },
  {
   "cell_type": "markdown",
   "metadata": {},
   "source": [
    "## 2.1 Run asset fleet condition\n",
    "<div style='width: auto; float: center'/>\n",
    "<table align=\"center\">\n",
    "    <tr>\n",
    "        <th>\n",
    "                <img src=\"../STATIC/07_Health_Index_Computation.svg\" style='height: 300px; width: auto; object-fit: contain;float: right'/>                                \t\t\n",
    "        </th>     \n",
    "    </tr>\n",
    "</table>\n",
    "\n",
    "</div>"
   ]
  },
  {
   "cell_type": "code",
   "execution_count": 4,
   "metadata": {},
   "outputs": [
    {
     "name": "stderr",
     "output_type": "stream",
     "text": [
      "../APM/BIN/APM_Module_Tools.py:35: RuntimeWarning: invalid value encountered in power\n",
      "  return (1 - np.exp(-((t*beta)**(1/alpha))))\n",
      "../APM/BIN/APM_Module_Tools.py:35: RuntimeWarning: divide by zero encountered in double_scalars\n",
      "  return (1 - np.exp(-((t*beta)**(1/alpha))))\n",
      "../APM/BIN/APM_Module_Tools.py:35: RuntimeWarning: invalid value encountered in power\n",
      "  return (1 - np.exp(-((t*beta)**(1/alpha))))\n",
      "../APM/BIN/APM_Module_Tools.py:35: RuntimeWarning: divide by zero encountered in double_scalars\n",
      "  return (1 - np.exp(-((t*beta)**(1/alpha))))\n",
      "../APM/BIN/APM_Module_Tools.py:35: RuntimeWarning: invalid value encountered in power\n",
      "  return (1 - np.exp(-((t*beta)**(1/alpha))))\n",
      "../APM/BIN/APM_Module_Tools.py:35: RuntimeWarning: divide by zero encountered in double_scalars\n",
      "  return (1 - np.exp(-((t*beta)**(1/alpha))))\n",
      "../APM/BIN/APM_Module_Tools.py:35: RuntimeWarning: invalid value encountered in power\n",
      "  return (1 - np.exp(-((t*beta)**(1/alpha))))\n",
      "../APM/BIN/APM_Module_Tools.py:35: RuntimeWarning: divide by zero encountered in double_scalars\n",
      "  return (1 - np.exp(-((t*beta)**(1/alpha))))\n",
      "../APM/BIN/APM_Module_Tools.py:35: RuntimeWarning: invalid value encountered in power\n",
      "  return (1 - np.exp(-((t*beta)**(1/alpha))))\n",
      "../APM/BIN/APM_Module_Tools.py:35: RuntimeWarning: divide by zero encountered in double_scalars\n",
      "  return (1 - np.exp(-((t*beta)**(1/alpha))))\n",
      "../APM/BIN/APM_Module_Tools.py:35: RuntimeWarning: invalid value encountered in power\n",
      "  return (1 - np.exp(-((t*beta)**(1/alpha))))\n",
      "../APM/BIN/APM_Module_Tools.py:35: RuntimeWarning: divide by zero encountered in power\n",
      "  return (1 - np.exp(-((t*beta)**(1/alpha))))\n",
      "../APM/BIN/APM_Module_Tools.py:35: RuntimeWarning: invalid value encountered in power\n",
      "  return (1 - np.exp(-((t*beta)**(1/alpha))))\n",
      "../APM/BIN/APM_Module_Tools.py:35: RuntimeWarning: divide by zero encountered in double_scalars\n",
      "  return (1 - np.exp(-((t*beta)**(1/alpha))))\n",
      "../APM/BIN/APM_Module_Tools.py:35: RuntimeWarning: invalid value encountered in power\n",
      "  return (1 - np.exp(-((t*beta)**(1/alpha))))\n",
      "../APM/BIN/APM_Module_Tools.py:35: RuntimeWarning: invalid value encountered in power\n",
      "  return (1 - np.exp(-((t*beta)**(1/alpha))))\n",
      "/home/dlalvareza/anaconda3/lib/python3.7/site-packages/pandas/core/frame.py:1554: FutureWarning: Using short name for 'orient' is deprecated. Only the options: ('dict', list, 'series', 'split', 'records', 'index') will be used in a future version. Use one of the above to silence this warning.\n",
      "  FutureWarning,\n",
      "../APM/BIN/APM_Module_Tools.py:35: RuntimeWarning: invalid value encountered in power\n",
      "  return (1 - np.exp(-((t*beta)**(1/alpha))))\n",
      "../APM/BIN/APM_Module_Tools.py:35: RuntimeWarning: invalid value encountered in power\n",
      "  return (1 - np.exp(-((t*beta)**(1/alpha))))\n",
      "../APM/BIN/APM_Module_Tools.py:35: RuntimeWarning: invalid value encountered in power\n",
      "  return (1 - np.exp(-((t*beta)**(1/alpha))))\n",
      "../APM/BIN/APM_Module_Tools.py:35: RuntimeWarning: invalid value encountered in power\n",
      "  return (1 - np.exp(-((t*beta)**(1/alpha))))\n",
      "../APM/BIN/APM_Module_Tools.py:35: RuntimeWarning: divide by zero encountered in double_scalars\n",
      "  return (1 - np.exp(-((t*beta)**(1/alpha))))\n",
      "../APM/BIN/APM_Module_Tools.py:35: RuntimeWarning: invalid value encountered in power\n",
      "  return (1 - np.exp(-((t*beta)**(1/alpha))))\n",
      "../APM/BIN/APM_Module_Tools.py:35: RuntimeWarning: divide by zero encountered in double_scalars\n",
      "  return (1 - np.exp(-((t*beta)**(1/alpha))))\n",
      "../APM/BIN/APM_Module_Tools.py:35: RuntimeWarning: invalid value encountered in power\n",
      "  return (1 - np.exp(-((t*beta)**(1/alpha))))\n",
      "../APM/BIN/APM_Module_Tools.py:35: RuntimeWarning: divide by zero encountered in power\n",
      "  return (1 - np.exp(-((t*beta)**(1/alpha))))\n",
      "../APM/BIN/APM_Module_Tools.py:35: RuntimeWarning: divide by zero encountered in double_scalars\n",
      "  return (1 - np.exp(-((t*beta)**(1/alpha))))\n",
      "../APM/BIN/APM_Module_Tools.py:35: RuntimeWarning: invalid value encountered in power\n",
      "  return (1 - np.exp(-((t*beta)**(1/alpha))))\n",
      "/home/dlalvareza/anaconda3/lib/python3.7/site-packages/pandas/core/frame.py:1554: FutureWarning: Using short name for 'orient' is deprecated. Only the options: ('dict', list, 'series', 'split', 'records', 'index') will be used in a future version. Use one of the above to silence this warning.\n",
      "  FutureWarning,\n",
      "../APM/BIN/APM_Module_Tools.py:35: RuntimeWarning: invalid value encountered in power\n",
      "  return (1 - np.exp(-((t*beta)**(1/alpha))))\n",
      "../APM/BIN/APM_Module_Tools.py:35: RuntimeWarning: divide by zero encountered in double_scalars\n",
      "  return (1 - np.exp(-((t*beta)**(1/alpha))))\n",
      "../APM/BIN/APM_Module_Tools.py:35: RuntimeWarning: invalid value encountered in power\n",
      "  return (1 - np.exp(-((t*beta)**(1/alpha))))\n",
      "../APM/BIN/APM_Module_Tools.py:35: RuntimeWarning: invalid value encountered in power\n",
      "  return (1 - np.exp(-((t*beta)**(1/alpha))))\n",
      "../APM/BIN/APM_Module_Tools.py:35: RuntimeWarning: invalid value encountered in power\n",
      "  return (1 - np.exp(-((t*beta)**(1/alpha))))\n",
      "../APM/BIN/APM_Module_Tools.py:35: RuntimeWarning: overflow encountered in power\n",
      "  return (1 - np.exp(-((t*beta)**(1/alpha))))\n",
      "../APM/BIN/APM_Module_Tools.py:35: RuntimeWarning: invalid value encountered in power\n",
      "  return (1 - np.exp(-((t*beta)**(1/alpha))))\n",
      "/home/dlalvareza/anaconda3/lib/python3.7/site-packages/pandas/core/frame.py:1554: FutureWarning: Using short name for 'orient' is deprecated. Only the options: ('dict', list, 'series', 'split', 'records', 'index') will be used in a future version. Use one of the above to silence this warning.\n",
      "  FutureWarning,\n",
      "../APM/BIN/APM_Module_Tools.py:35: RuntimeWarning: invalid value encountered in power\n",
      "  return (1 - np.exp(-((t*beta)**(1/alpha))))\n",
      "../APM/BIN/APM_Module_Tools.py:35: RuntimeWarning: invalid value encountered in power\n",
      "  return (1 - np.exp(-((t*beta)**(1/alpha))))\n",
      "../APM/BIN/APM_Module_Tools.py:35: RuntimeWarning: invalid value encountered in power\n",
      "  return (1 - np.exp(-((t*beta)**(1/alpha))))\n",
      "../APM/BIN/APM_Module_Tools.py:35: RuntimeWarning: invalid value encountered in power\n",
      "  return (1 - np.exp(-((t*beta)**(1/alpha))))\n",
      "../APM/BIN/APM_Module_Tools.py:35: RuntimeWarning: invalid value encountered in power\n",
      "  return (1 - np.exp(-((t*beta)**(1/alpha))))\n",
      "../APM/BIN/APM_Module_Tools.py:35: RuntimeWarning: divide by zero encountered in power\n",
      "  return (1 - np.exp(-((t*beta)**(1/alpha))))\n",
      "../APM/BIN/APM_Module_Tools.py:35: RuntimeWarning: invalid value encountered in power\n",
      "  return (1 - np.exp(-((t*beta)**(1/alpha))))\n",
      "../APM/BIN/APM_Module_Tools.py:35: RuntimeWarning: invalid value encountered in power\n",
      "  return (1 - np.exp(-((t*beta)**(1/alpha))))\n",
      "../APM/BIN/APM_Module_Tools.py:35: RuntimeWarning: invalid value encountered in power\n",
      "  return (1 - np.exp(-((t*beta)**(1/alpha))))\n",
      "../APM/BIN/APM_Module_Tools.py:35: RuntimeWarning: divide by zero encountered in double_scalars\n",
      "  return (1 - np.exp(-((t*beta)**(1/alpha))))\n",
      "../APM/BIN/APM_Module_Tools.py:35: RuntimeWarning: invalid value encountered in power\n",
      "  return (1 - np.exp(-((t*beta)**(1/alpha))))\n",
      "../APM/BIN/APM_Module_Tools.py:35: RuntimeWarning: invalid value encountered in power\n",
      "  return (1 - np.exp(-((t*beta)**(1/alpha))))\n",
      "../APM/BIN/APM_Module_Tools.py:35: RuntimeWarning: invalid value encountered in power\n",
      "  return (1 - np.exp(-((t*beta)**(1/alpha))))\n",
      "../APM/BIN/APM_Module_Tools.py:35: RuntimeWarning: invalid value encountered in power\n",
      "  return (1 - np.exp(-((t*beta)**(1/alpha))))\n",
      "/home/dlalvareza/anaconda3/lib/python3.7/site-packages/pandas/core/frame.py:1554: FutureWarning: Using short name for 'orient' is deprecated. Only the options: ('dict', list, 'series', 'split', 'records', 'index') will be used in a future version. Use one of the above to silence this warning.\n",
      "  FutureWarning,\n",
      "../APM/BIN/APM_Module_Tools.py:35: RuntimeWarning: invalid value encountered in power\n",
      "  return (1 - np.exp(-((t*beta)**(1/alpha))))\n",
      "../APM/BIN/APM_Module_Tools.py:35: RuntimeWarning: invalid value encountered in power\n",
      "  return (1 - np.exp(-((t*beta)**(1/alpha))))\n",
      "../APM/BIN/APM_Module_Tools.py:35: RuntimeWarning: invalid value encountered in power\n",
      "  return (1 - np.exp(-((t*beta)**(1/alpha))))\n",
      "../APM/BIN/APM_Module_Tools.py:35: RuntimeWarning: invalid value encountered in power\n",
      "  return (1 - np.exp(-((t*beta)**(1/alpha))))\n"
     ]
    },
    {
     "name": "stderr",
     "output_type": "stream",
     "text": [
      "../APM/BIN/APM_Module_Tools.py:35: RuntimeWarning: invalid value encountered in power\n",
      "  return (1 - np.exp(-((t*beta)**(1/alpha))))\n",
      "../APM/BIN/APM_Module_Tools.py:35: RuntimeWarning: invalid value encountered in power\n",
      "  return (1 - np.exp(-((t*beta)**(1/alpha))))\n",
      "../APM/BIN/APM_Module_Tools.py:35: RuntimeWarning: invalid value encountered in power\n",
      "  return (1 - np.exp(-((t*beta)**(1/alpha))))\n",
      "../APM/BIN/APM_Module_Tools.py:35: RuntimeWarning: invalid value encountered in power\n",
      "  return (1 - np.exp(-((t*beta)**(1/alpha))))\n",
      "../APM/BIN/APM_Module_Tools.py:35: RuntimeWarning: invalid value encountered in power\n",
      "  return (1 - np.exp(-((t*beta)**(1/alpha))))\n",
      "/home/dlalvareza/anaconda3/lib/python3.7/site-packages/pandas/core/frame.py:1554: FutureWarning: Using short name for 'orient' is deprecated. Only the options: ('dict', list, 'series', 'split', 'records', 'index') will be used in a future version. Use one of the above to silence this warning.\n",
      "  FutureWarning,\n",
      "../APM/BIN/APM_Module_Tools.py:35: RuntimeWarning: invalid value encountered in power\n",
      "  return (1 - np.exp(-((t*beta)**(1/alpha))))\n",
      "../APM/BIN/APM_Module_Tools.py:35: RuntimeWarning: divide by zero encountered in double_scalars\n",
      "  return (1 - np.exp(-((t*beta)**(1/alpha))))\n",
      "../APM/BIN/APM_Module_Tools.py:35: RuntimeWarning: invalid value encountered in power\n",
      "  return (1 - np.exp(-((t*beta)**(1/alpha))))\n",
      "../APM/BIN/APM_Module_Tools.py:35: RuntimeWarning: invalid value encountered in power\n",
      "  return (1 - np.exp(-((t*beta)**(1/alpha))))\n",
      "../APM/BIN/APM_Module_Tools.py:35: RuntimeWarning: invalid value encountered in power\n",
      "  return (1 - np.exp(-((t*beta)**(1/alpha))))\n",
      "/home/dlalvareza/anaconda3/lib/python3.7/site-packages/pandas/core/frame.py:1554: FutureWarning: Using short name for 'orient' is deprecated. Only the options: ('dict', list, 'series', 'split', 'records', 'index') will be used in a future version. Use one of the above to silence this warning.\n",
      "  FutureWarning,\n",
      "../APM/BIN/APM_Module_Tools.py:35: RuntimeWarning: invalid value encountered in power\n",
      "  return (1 - np.exp(-((t*beta)**(1/alpha))))\n",
      "../APM/BIN/APM_Module_Tools.py:35: RuntimeWarning: overflow encountered in power\n",
      "  return (1 - np.exp(-((t*beta)**(1/alpha))))\n",
      "../APM/BIN/APM_Module_Tools.py:35: RuntimeWarning: invalid value encountered in power\n",
      "  return (1 - np.exp(-((t*beta)**(1/alpha))))\n",
      "../APM/BIN/APM_Module_Tools.py:35: RuntimeWarning: invalid value encountered in power\n",
      "  return (1 - np.exp(-((t*beta)**(1/alpha))))\n",
      "../APM/BIN/APM_Module_Tools.py:35: RuntimeWarning: invalid value encountered in power\n",
      "  return (1 - np.exp(-((t*beta)**(1/alpha))))\n",
      "/home/dlalvareza/anaconda3/lib/python3.7/site-packages/pandas/core/frame.py:1554: FutureWarning: Using short name for 'orient' is deprecated. Only the options: ('dict', list, 'series', 'split', 'records', 'index') will be used in a future version. Use one of the above to silence this warning.\n",
      "  FutureWarning,\n",
      "../APM/BIN/APM_Module_Tools.py:35: RuntimeWarning: invalid value encountered in power\n",
      "  return (1 - np.exp(-((t*beta)**(1/alpha))))\n",
      "../APM/BIN/APM_Module_Tools.py:35: RuntimeWarning: invalid value encountered in power\n",
      "  return (1 - np.exp(-((t*beta)**(1/alpha))))\n",
      "../APM/BIN/APM_Module_Tools.py:35: RuntimeWarning: invalid value encountered in power\n",
      "  return (1 - np.exp(-((t*beta)**(1/alpha))))\n",
      "../APM/BIN/APM_Module_Tools.py:35: RuntimeWarning: divide by zero encountered in power\n",
      "  return (1 - np.exp(-((t*beta)**(1/alpha))))\n",
      "../APM/BIN/APM_Module_Tools.py:35: RuntimeWarning: invalid value encountered in power\n",
      "  return (1 - np.exp(-((t*beta)**(1/alpha))))\n",
      "/home/dlalvareza/anaconda3/lib/python3.7/site-packages/pandas/core/frame.py:1554: FutureWarning: Using short name for 'orient' is deprecated. Only the options: ('dict', list, 'series', 'split', 'records', 'index') will be used in a future version. Use one of the above to silence this warning.\n",
      "  FutureWarning,\n",
      "../APM/BIN/APM_Module_Tools.py:35: RuntimeWarning: invalid value encountered in power\n",
      "  return (1 - np.exp(-((t*beta)**(1/alpha))))\n",
      "../APM/BIN/APM_Module_Tools.py:35: RuntimeWarning: invalid value encountered in power\n",
      "  return (1 - np.exp(-((t*beta)**(1/alpha))))\n",
      "../APM/BIN/APM_Module_Tools.py:35: RuntimeWarning: invalid value encountered in power\n",
      "  return (1 - np.exp(-((t*beta)**(1/alpha))))\n",
      "../APM/BIN/APM_Module_Tools.py:35: RuntimeWarning: invalid value encountered in power\n",
      "  return (1 - np.exp(-((t*beta)**(1/alpha))))\n",
      "/home/dlalvareza/anaconda3/lib/python3.7/site-packages/pandas/core/frame.py:1554: FutureWarning: Using short name for 'orient' is deprecated. Only the options: ('dict', list, 'series', 'split', 'records', 'index') will be used in a future version. Use one of the above to silence this warning.\n",
      "  FutureWarning,\n",
      "../APM/BIN/APM_Module_Tools.py:35: RuntimeWarning: invalid value encountered in power\n",
      "  return (1 - np.exp(-((t*beta)**(1/alpha))))\n",
      "../APM/BIN/APM_Module_Tools.py:35: RuntimeWarning: divide by zero encountered in double_scalars\n",
      "  return (1 - np.exp(-((t*beta)**(1/alpha))))\n",
      "../APM/BIN/APM_Module_Tools.py:35: RuntimeWarning: invalid value encountered in power\n",
      "  return (1 - np.exp(-((t*beta)**(1/alpha))))\n",
      "../APM/BIN/APM_Module_Tools.py:35: RuntimeWarning: invalid value encountered in power\n",
      "  return (1 - np.exp(-((t*beta)**(1/alpha))))\n",
      "../APM/BIN/APM_Module_Tools.py:35: RuntimeWarning: invalid value encountered in power\n",
      "  return (1 - np.exp(-((t*beta)**(1/alpha))))\n",
      "/home/dlalvareza/anaconda3/lib/python3.7/site-packages/pandas/core/frame.py:1554: FutureWarning: Using short name for 'orient' is deprecated. Only the options: ('dict', list, 'series', 'split', 'records', 'index') will be used in a future version. Use one of the above to silence this warning.\n",
      "  FutureWarning,\n",
      "../APM/BIN/APM_Module_Tools.py:35: RuntimeWarning: invalid value encountered in power\n",
      "  return (1 - np.exp(-((t*beta)**(1/alpha))))\n",
      "../APM/BIN/APM_Module_Tools.py:35: RuntimeWarning: invalid value encountered in power\n",
      "  return (1 - np.exp(-((t*beta)**(1/alpha))))\n",
      "../APM/BIN/APM_Module_Tools.py:35: RuntimeWarning: invalid value encountered in power\n",
      "  return (1 - np.exp(-((t*beta)**(1/alpha))))\n",
      "../APM/BIN/APM_Module_Tools.py:35: RuntimeWarning: invalid value encountered in power\n",
      "  return (1 - np.exp(-((t*beta)**(1/alpha))))\n",
      "/home/dlalvareza/anaconda3/lib/python3.7/site-packages/pandas/core/frame.py:1554: FutureWarning: Using short name for 'orient' is deprecated. Only the options: ('dict', list, 'series', 'split', 'records', 'index') will be used in a future version. Use one of the above to silence this warning.\n",
      "  FutureWarning,\n",
      "../APM/BIN/APM_Module_Tools.py:35: RuntimeWarning: invalid value encountered in power\n",
      "  return (1 - np.exp(-((t*beta)**(1/alpha))))\n",
      "../APM/BIN/APM_Module_Tools.py:35: RuntimeWarning: invalid value encountered in power\n",
      "  return (1 - np.exp(-((t*beta)**(1/alpha))))\n",
      "../APM/BIN/APM_Module_Tools.py:35: RuntimeWarning: invalid value encountered in power\n",
      "  return (1 - np.exp(-((t*beta)**(1/alpha))))\n",
      "/home/dlalvareza/anaconda3/lib/python3.7/site-packages/pandas/core/frame.py:1554: FutureWarning: Using short name for 'orient' is deprecated. Only the options: ('dict', list, 'series', 'split', 'records', 'index') will be used in a future version. Use one of the above to silence this warning.\n",
      "  FutureWarning,\n",
      "../APM/BIN/APM_Module_Tools.py:35: RuntimeWarning: invalid value encountered in power\n",
      "  return (1 - np.exp(-((t*beta)**(1/alpha))))\n",
      "../APM/BIN/APM_Module_Tools.py:35: RuntimeWarning: divide by zero encountered in double_scalars\n",
      "  return (1 - np.exp(-((t*beta)**(1/alpha))))\n",
      "../APM/BIN/APM_Module_Tools.py:35: RuntimeWarning: invalid value encountered in power\n",
      "  return (1 - np.exp(-((t*beta)**(1/alpha))))\n",
      "../APM/BIN/APM_Module_Tools.py:35: RuntimeWarning: invalid value encountered in power\n",
      "  return (1 - np.exp(-((t*beta)**(1/alpha))))\n",
      "../APM/BIN/APM_Module_Tools.py:35: RuntimeWarning: divide by zero encountered in double_scalars\n",
      "  return (1 - np.exp(-((t*beta)**(1/alpha))))\n",
      "../APM/BIN/APM_Module_Tools.py:35: RuntimeWarning: invalid value encountered in power\n",
      "  return (1 - np.exp(-((t*beta)**(1/alpha))))\n",
      "/home/dlalvareza/anaconda3/lib/python3.7/site-packages/pandas/core/frame.py:1554: FutureWarning: Using short name for 'orient' is deprecated. Only the options: ('dict', list, 'series', 'split', 'records', 'index') will be used in a future version. Use one of the above to silence this warning.\n",
      "  FutureWarning,\n",
      "../APM/BIN/APM_Module_Tools.py:35: RuntimeWarning: invalid value encountered in power\n",
      "  return (1 - np.exp(-((t*beta)**(1/alpha))))\n",
      "../APM/BIN/APM_Module_Tools.py:35: RuntimeWarning: overflow encountered in power\n",
      "  return (1 - np.exp(-((t*beta)**(1/alpha))))\n",
      "../APM/BIN/APM_Module_Tools.py:35: RuntimeWarning: invalid value encountered in power\n",
      "  return (1 - np.exp(-((t*beta)**(1/alpha))))\n",
      "../APM/BIN/APM_Module_Tools.py:35: RuntimeWarning: divide by zero encountered in power\n",
      "  return (1 - np.exp(-((t*beta)**(1/alpha))))\n",
      "../APM/BIN/APM_Module_Tools.py:35: RuntimeWarning: overflow encountered in power\n",
      "  return (1 - np.exp(-((t*beta)**(1/alpha))))\n",
      "../APM/BIN/APM_Module_Tools.py:35: RuntimeWarning: invalid value encountered in power\n",
      "  return (1 - np.exp(-((t*beta)**(1/alpha))))\n",
      "../APM/BIN/APM_Module_Tools.py:35: RuntimeWarning: invalid value encountered in power\n",
      "  return (1 - np.exp(-((t*beta)**(1/alpha))))\n"
     ]
    },
    {
     "name": "stderr",
     "output_type": "stream",
     "text": [
      "/home/dlalvareza/anaconda3/lib/python3.7/site-packages/pandas/core/frame.py:1554: FutureWarning: Using short name for 'orient' is deprecated. Only the options: ('dict', list, 'series', 'split', 'records', 'index') will be used in a future version. Use one of the above to silence this warning.\n",
      "  FutureWarning,\n",
      "../APM/BIN/APM_Module_Tools.py:35: RuntimeWarning: invalid value encountered in power\n",
      "  return (1 - np.exp(-((t*beta)**(1/alpha))))\n",
      "../APM/BIN/APM_Module_Tools.py:35: RuntimeWarning: overflow encountered in power\n",
      "  return (1 - np.exp(-((t*beta)**(1/alpha))))\n",
      "../APM/BIN/APM_Module_Tools.py:35: RuntimeWarning: invalid value encountered in power\n",
      "  return (1 - np.exp(-((t*beta)**(1/alpha))))\n",
      "../APM/BIN/APM_Module_Tools.py:35: RuntimeWarning: overflow encountered in power\n",
      "  return (1 - np.exp(-((t*beta)**(1/alpha))))\n",
      "../APM/BIN/APM_Module_Tools.py:35: RuntimeWarning: invalid value encountered in power\n",
      "  return (1 - np.exp(-((t*beta)**(1/alpha))))\n",
      "../APM/BIN/APM_Module_Tools.py:35: RuntimeWarning: divide by zero encountered in double_scalars\n",
      "  return (1 - np.exp(-((t*beta)**(1/alpha))))\n",
      "../APM/BIN/APM_Module_Tools.py:35: RuntimeWarning: invalid value encountered in power\n",
      "  return (1 - np.exp(-((t*beta)**(1/alpha))))\n",
      "/home/dlalvareza/anaconda3/lib/python3.7/site-packages/pandas/core/frame.py:1554: FutureWarning: Using short name for 'orient' is deprecated. Only the options: ('dict', list, 'series', 'split', 'records', 'index') will be used in a future version. Use one of the above to silence this warning.\n",
      "  FutureWarning,\n",
      "../APM/BIN/APM_Module_Tools.py:35: RuntimeWarning: invalid value encountered in power\n",
      "  return (1 - np.exp(-((t*beta)**(1/alpha))))\n",
      "../APM/BIN/APM_Module_Tools.py:35: RuntimeWarning: divide by zero encountered in double_scalars\n",
      "  return (1 - np.exp(-((t*beta)**(1/alpha))))\n",
      "../APM/BIN/APM_Module_Tools.py:35: RuntimeWarning: invalid value encountered in power\n",
      "  return (1 - np.exp(-((t*beta)**(1/alpha))))\n",
      "../APM/BIN/APM_Module_Tools.py:35: RuntimeWarning: divide by zero encountered in double_scalars\n",
      "  return (1 - np.exp(-((t*beta)**(1/alpha))))\n",
      "../APM/BIN/APM_Module_Tools.py:35: RuntimeWarning: invalid value encountered in power\n",
      "  return (1 - np.exp(-((t*beta)**(1/alpha))))\n",
      "../APM/BIN/APM_Module_Tools.py:35: RuntimeWarning: divide by zero encountered in power\n",
      "  return (1 - np.exp(-((t*beta)**(1/alpha))))\n",
      "../APM/BIN/APM_Module_Tools.py:35: RuntimeWarning: overflow encountered in power\n",
      "  return (1 - np.exp(-((t*beta)**(1/alpha))))\n",
      "../APM/BIN/APM_Module_Tools.py:35: RuntimeWarning: invalid value encountered in power\n",
      "  return (1 - np.exp(-((t*beta)**(1/alpha))))\n",
      "../APM/BIN/APM_Module_Tools.py:35: RuntimeWarning: divide by zero encountered in double_scalars\n",
      "  return (1 - np.exp(-((t*beta)**(1/alpha))))\n",
      "../APM/BIN/APM_Module_Tools.py:35: RuntimeWarning: invalid value encountered in power\n",
      "  return (1 - np.exp(-((t*beta)**(1/alpha))))\n",
      "../APM/BIN/APM_Module_Tools.py:35: RuntimeWarning: divide by zero encountered in double_scalars\n",
      "  return (1 - np.exp(-((t*beta)**(1/alpha))))\n",
      "../APM/BIN/APM_Module_Tools.py:35: RuntimeWarning: invalid value encountered in power\n",
      "  return (1 - np.exp(-((t*beta)**(1/alpha))))\n",
      "../APM/BIN/APM_Module_Tools.py:35: RuntimeWarning: divide by zero encountered in power\n",
      "  return (1 - np.exp(-((t*beta)**(1/alpha))))\n",
      "/home/dlalvareza/anaconda3/lib/python3.7/site-packages/pandas/core/frame.py:1554: FutureWarning: Using short name for 'orient' is deprecated. Only the options: ('dict', list, 'series', 'split', 'records', 'index') will be used in a future version. Use one of the above to silence this warning.\n",
      "  FutureWarning,\n",
      "../APM/BIN/APM_Module_Tools.py:35: RuntimeWarning: invalid value encountered in power\n",
      "  return (1 - np.exp(-((t*beta)**(1/alpha))))\n",
      "../APM/BIN/APM_Module_Tools.py:35: RuntimeWarning: divide by zero encountered in double_scalars\n",
      "  return (1 - np.exp(-((t*beta)**(1/alpha))))\n",
      "../APM/BIN/APM_Module_Tools.py:35: RuntimeWarning: invalid value encountered in power\n",
      "  return (1 - np.exp(-((t*beta)**(1/alpha))))\n",
      "../APM/BIN/APM_Module_Tools.py:35: RuntimeWarning: invalid value encountered in power\n",
      "  return (1 - np.exp(-((t*beta)**(1/alpha))))\n",
      "../APM/BIN/APM_Module_Tools.py:35: RuntimeWarning: divide by zero encountered in double_scalars\n",
      "  return (1 - np.exp(-((t*beta)**(1/alpha))))\n",
      "../APM/BIN/APM_Module_Tools.py:35: RuntimeWarning: invalid value encountered in power\n",
      "  return (1 - np.exp(-((t*beta)**(1/alpha))))\n",
      "/home/dlalvareza/anaconda3/lib/python3.7/site-packages/pandas/core/frame.py:1554: FutureWarning: Using short name for 'orient' is deprecated. Only the options: ('dict', list, 'series', 'split', 'records', 'index') will be used in a future version. Use one of the above to silence this warning.\n",
      "  FutureWarning,\n",
      "../APM/BIN/APM_Module_Tools.py:35: RuntimeWarning: invalid value encountered in power\n",
      "  return (1 - np.exp(-((t*beta)**(1/alpha))))\n",
      "../APM/BIN/APM_Module_Tools.py:35: RuntimeWarning: invalid value encountered in power\n",
      "  return (1 - np.exp(-((t*beta)**(1/alpha))))\n",
      "../APM/BIN/APM_Module_Tools.py:35: RuntimeWarning: divide by zero encountered in double_scalars\n",
      "  return (1 - np.exp(-((t*beta)**(1/alpha))))\n",
      "../APM/BIN/APM_Module_Tools.py:35: RuntimeWarning: invalid value encountered in power\n",
      "  return (1 - np.exp(-((t*beta)**(1/alpha))))\n",
      "../APM/BIN/APM_Module_Tools.py:35: RuntimeWarning: divide by zero encountered in double_scalars\n",
      "  return (1 - np.exp(-((t*beta)**(1/alpha))))\n",
      "../APM/BIN/APM_Module_Tools.py:35: RuntimeWarning: invalid value encountered in power\n",
      "  return (1 - np.exp(-((t*beta)**(1/alpha))))\n",
      "/home/dlalvareza/anaconda3/lib/python3.7/site-packages/pandas/core/frame.py:1554: FutureWarning: Using short name for 'orient' is deprecated. Only the options: ('dict', list, 'series', 'split', 'records', 'index') will be used in a future version. Use one of the above to silence this warning.\n",
      "  FutureWarning,\n",
      "/home/dlalvareza/anaconda3/lib/python3.7/site-packages/IPython/core/interactiveshell.py:3437: PerformanceWarning: \n",
      "your performance may suffer as PyTables will pickle object types that it cannot\n",
      "map directly to c-types [inferred_type->mixed,key->block1_values] [items->Index(['Name', 'Type', 'Disc_Type', 'Asset_To_Disconet', 'Strategy'], dtype='object')]\n",
      "\n",
      "  exec(code_obj, self.user_global_ns, self.user_ns)\n"
     ]
    }
   ],
   "source": [
    "_,_,assets = run_condition()"
   ]
  },
  {
   "cell_type": "code",
   "execution_count": 5,
   "metadata": {},
   "outputs": [],
   "source": [
    "def choose_asset_type(asset_type,Assets):\n",
    "    df         = Assets.Asset_Portfolio_List\n",
    "    asset_list = list(df[df['Type']==asset_type].index)\n",
    "    condition_list = []\n",
    "    for n in asset_list:\n",
    "        asset          = Assets.Asset_Portfolio[n]\n",
    "        l_list         =list(asset.cond.keys())\n",
    "        condition_list = list(set(condition_list+l_list))\n",
    "    interact(plot_condition, Cond_Name = condition_list,assets=fixed(Assets),asset_type=fixed(asset_type))\n",
    "    \n",
    "def plot_condition(assets,Cond_Name,asset_type):     \n",
    "    df = assets.Asset_Portfolio_List\n",
    "    asset_list = df[df['Type']==asset_type]\n",
    "    asset_list = list(asset_list.index)\n",
    "    Asset_Condition_by_Type(asset_list,assets,Cond_Name)"
   ]
  },
  {
   "cell_type": "code",
   "execution_count": 6,
   "metadata": {},
   "outputs": [
    {
     "data": {
      "application/vnd.jupyter.widget-view+json": {
       "model_id": "6ccc960e886841f3870571188a3fd52e",
       "version_major": 2,
       "version_minor": 0
      },
      "text/plain": [
       "interactive(children=(Dropdown(description='asset_type', options=('AUX', 'CB_SF6', 'TR', 'CB', 'LN', 'GEN', 'B…"
      ]
     },
     "metadata": {},
     "output_type": "display_data"
    },
    {
     "data": {
      "text/plain": [
       "<function __main__.choose_asset_type(asset_type, Assets)>"
      ]
     },
     "execution_count": 6,
     "metadata": {},
     "output_type": "execute_result"
    }
   ],
   "source": [
    "df         = assets.Asset_Portfolio_List\n",
    "asset_type = assets.Asset_Portfolio_List['Type'].unique()\n",
    "interact(choose_asset_type, asset_type=asset_type,Assets=fixed(assets))"
   ]
  },
  {
   "cell_type": "markdown",
   "metadata": {},
   "source": [
    "## 2.2 Condition forecasting\n",
    "\\begin{equation*}\n",
    "S \\left( t \\right) = 1- e ^{-\\left(\\frac{t}{l}\\right)^m}\n",
    "\\end{equation*}"
   ]
  },
  {
   "cell_type": "code",
   "execution_count": 7,
   "metadata": {},
   "outputs": [
    {
     "data": {
      "text/html": [
       "\n",
       "    <div class=\"bk-root\">\n",
       "        <a href=\"https://bokeh.org\" target=\"_blank\" class=\"bk-logo bk-logo-small bk-logo-notebook\"></a>\n",
       "        <span id=\"1002\">Loading BokehJS ...</span>\n",
       "    </div>"
      ]
     },
     "metadata": {},
     "output_type": "display_data"
    },
    {
     "data": {
      "application/javascript": [
       "\n",
       "(function(root) {\n",
       "  function now() {\n",
       "    return new Date();\n",
       "  }\n",
       "\n",
       "  var force = true;\n",
       "\n",
       "  if (typeof root._bokeh_onload_callbacks === \"undefined\" || force === true) {\n",
       "    root._bokeh_onload_callbacks = [];\n",
       "    root._bokeh_is_loading = undefined;\n",
       "  }\n",
       "\n",
       "  var JS_MIME_TYPE = 'application/javascript';\n",
       "  var HTML_MIME_TYPE = 'text/html';\n",
       "  var EXEC_MIME_TYPE = 'application/vnd.bokehjs_exec.v0+json';\n",
       "  var CLASS_NAME = 'output_bokeh rendered_html';\n",
       "\n",
       "  /**\n",
       "   * Render data to the DOM node\n",
       "   */\n",
       "  function render(props, node) {\n",
       "    var script = document.createElement(\"script\");\n",
       "    node.appendChild(script);\n",
       "  }\n",
       "\n",
       "  /**\n",
       "   * Handle when an output is cleared or removed\n",
       "   */\n",
       "  function handleClearOutput(event, handle) {\n",
       "    var cell = handle.cell;\n",
       "\n",
       "    var id = cell.output_area._bokeh_element_id;\n",
       "    var server_id = cell.output_area._bokeh_server_id;\n",
       "    // Clean up Bokeh references\n",
       "    if (id != null && id in Bokeh.index) {\n",
       "      Bokeh.index[id].model.document.clear();\n",
       "      delete Bokeh.index[id];\n",
       "    }\n",
       "\n",
       "    if (server_id !== undefined) {\n",
       "      // Clean up Bokeh references\n",
       "      var cmd = \"from bokeh.io.state import curstate; print(curstate().uuid_to_server['\" + server_id + \"'].get_sessions()[0].document.roots[0]._id)\";\n",
       "      cell.notebook.kernel.execute(cmd, {\n",
       "        iopub: {\n",
       "          output: function(msg) {\n",
       "            var id = msg.content.text.trim();\n",
       "            if (id in Bokeh.index) {\n",
       "              Bokeh.index[id].model.document.clear();\n",
       "              delete Bokeh.index[id];\n",
       "            }\n",
       "          }\n",
       "        }\n",
       "      });\n",
       "      // Destroy server and session\n",
       "      var cmd = \"import bokeh.io.notebook as ion; ion.destroy_server('\" + server_id + \"')\";\n",
       "      cell.notebook.kernel.execute(cmd);\n",
       "    }\n",
       "  }\n",
       "\n",
       "  /**\n",
       "   * Handle when a new output is added\n",
       "   */\n",
       "  function handleAddOutput(event, handle) {\n",
       "    var output_area = handle.output_area;\n",
       "    var output = handle.output;\n",
       "\n",
       "    // limit handleAddOutput to display_data with EXEC_MIME_TYPE content only\n",
       "    if ((output.output_type != \"display_data\") || (!Object.prototype.hasOwnProperty.call(output.data, EXEC_MIME_TYPE))) {\n",
       "      return\n",
       "    }\n",
       "\n",
       "    var toinsert = output_area.element.find(\".\" + CLASS_NAME.split(' ')[0]);\n",
       "\n",
       "    if (output.metadata[EXEC_MIME_TYPE][\"id\"] !== undefined) {\n",
       "      toinsert[toinsert.length - 1].firstChild.textContent = output.data[JS_MIME_TYPE];\n",
       "      // store reference to embed id on output_area\n",
       "      output_area._bokeh_element_id = output.metadata[EXEC_MIME_TYPE][\"id\"];\n",
       "    }\n",
       "    if (output.metadata[EXEC_MIME_TYPE][\"server_id\"] !== undefined) {\n",
       "      var bk_div = document.createElement(\"div\");\n",
       "      bk_div.innerHTML = output.data[HTML_MIME_TYPE];\n",
       "      var script_attrs = bk_div.children[0].attributes;\n",
       "      for (var i = 0; i < script_attrs.length; i++) {\n",
       "        toinsert[toinsert.length - 1].firstChild.setAttribute(script_attrs[i].name, script_attrs[i].value);\n",
       "        toinsert[toinsert.length - 1].firstChild.textContent = bk_div.children[0].textContent\n",
       "      }\n",
       "      // store reference to server id on output_area\n",
       "      output_area._bokeh_server_id = output.metadata[EXEC_MIME_TYPE][\"server_id\"];\n",
       "    }\n",
       "  }\n",
       "\n",
       "  function register_renderer(events, OutputArea) {\n",
       "\n",
       "    function append_mime(data, metadata, element) {\n",
       "      // create a DOM node to render to\n",
       "      var toinsert = this.create_output_subarea(\n",
       "        metadata,\n",
       "        CLASS_NAME,\n",
       "        EXEC_MIME_TYPE\n",
       "      );\n",
       "      this.keyboard_manager.register_events(toinsert);\n",
       "      // Render to node\n",
       "      var props = {data: data, metadata: metadata[EXEC_MIME_TYPE]};\n",
       "      render(props, toinsert[toinsert.length - 1]);\n",
       "      element.append(toinsert);\n",
       "      return toinsert\n",
       "    }\n",
       "\n",
       "    /* Handle when an output is cleared or removed */\n",
       "    events.on('clear_output.CodeCell', handleClearOutput);\n",
       "    events.on('delete.Cell', handleClearOutput);\n",
       "\n",
       "    /* Handle when a new output is added */\n",
       "    events.on('output_added.OutputArea', handleAddOutput);\n",
       "\n",
       "    /**\n",
       "     * Register the mime type and append_mime function with output_area\n",
       "     */\n",
       "    OutputArea.prototype.register_mime_type(EXEC_MIME_TYPE, append_mime, {\n",
       "      /* Is output safe? */\n",
       "      safe: true,\n",
       "      /* Index of renderer in `output_area.display_order` */\n",
       "      index: 0\n",
       "    });\n",
       "  }\n",
       "\n",
       "  // register the mime type if in Jupyter Notebook environment and previously unregistered\n",
       "  if (root.Jupyter !== undefined) {\n",
       "    var events = require('base/js/events');\n",
       "    var OutputArea = require('notebook/js/outputarea').OutputArea;\n",
       "\n",
       "    if (OutputArea.prototype.mime_types().indexOf(EXEC_MIME_TYPE) == -1) {\n",
       "      register_renderer(events, OutputArea);\n",
       "    }\n",
       "  }\n",
       "\n",
       "  \n",
       "  if (typeof (root._bokeh_timeout) === \"undefined\" || force === true) {\n",
       "    root._bokeh_timeout = Date.now() + 5000;\n",
       "    root._bokeh_failed_load = false;\n",
       "  }\n",
       "\n",
       "  var NB_LOAD_WARNING = {'data': {'text/html':\n",
       "     \"<div style='background-color: #fdd'>\\n\"+\n",
       "     \"<p>\\n\"+\n",
       "     \"BokehJS does not appear to have successfully loaded. If loading BokehJS from CDN, this \\n\"+\n",
       "     \"may be due to a slow or bad network connection. Possible fixes:\\n\"+\n",
       "     \"</p>\\n\"+\n",
       "     \"<ul>\\n\"+\n",
       "     \"<li>re-rerun `output_notebook()` to attempt to load from CDN again, or</li>\\n\"+\n",
       "     \"<li>use INLINE resources instead, as so:</li>\\n\"+\n",
       "     \"</ul>\\n\"+\n",
       "     \"<code>\\n\"+\n",
       "     \"from bokeh.resources import INLINE\\n\"+\n",
       "     \"output_notebook(resources=INLINE)\\n\"+\n",
       "     \"</code>\\n\"+\n",
       "     \"</div>\"}};\n",
       "\n",
       "  function display_loaded() {\n",
       "    var el = document.getElementById(\"1002\");\n",
       "    if (el != null) {\n",
       "      el.textContent = \"BokehJS is loading...\";\n",
       "    }\n",
       "    if (root.Bokeh !== undefined) {\n",
       "      if (el != null) {\n",
       "        el.textContent = \"BokehJS \" + root.Bokeh.version + \" successfully loaded.\";\n",
       "      }\n",
       "    } else if (Date.now() < root._bokeh_timeout) {\n",
       "      setTimeout(display_loaded, 100)\n",
       "    }\n",
       "  }\n",
       "\n",
       "\n",
       "  function run_callbacks() {\n",
       "    try {\n",
       "      root._bokeh_onload_callbacks.forEach(function(callback) {\n",
       "        if (callback != null)\n",
       "          callback();\n",
       "      });\n",
       "    } finally {\n",
       "      delete root._bokeh_onload_callbacks\n",
       "    }\n",
       "    console.debug(\"Bokeh: all callbacks have finished\");\n",
       "  }\n",
       "\n",
       "  function load_libs(css_urls, js_urls, callback) {\n",
       "    if (css_urls == null) css_urls = [];\n",
       "    if (js_urls == null) js_urls = [];\n",
       "\n",
       "    root._bokeh_onload_callbacks.push(callback);\n",
       "    if (root._bokeh_is_loading > 0) {\n",
       "      console.debug(\"Bokeh: BokehJS is being loaded, scheduling callback at\", now());\n",
       "      return null;\n",
       "    }\n",
       "    if (js_urls == null || js_urls.length === 0) {\n",
       "      run_callbacks();\n",
       "      return null;\n",
       "    }\n",
       "    console.debug(\"Bokeh: BokehJS not loaded, scheduling load and callback at\", now());\n",
       "    root._bokeh_is_loading = css_urls.length + js_urls.length;\n",
       "\n",
       "    function on_load() {\n",
       "      root._bokeh_is_loading--;\n",
       "      if (root._bokeh_is_loading === 0) {\n",
       "        console.debug(\"Bokeh: all BokehJS libraries/stylesheets loaded\");\n",
       "        run_callbacks()\n",
       "      }\n",
       "    }\n",
       "\n",
       "    function on_error(url) {\n",
       "      console.error(\"failed to load \" + url);\n",
       "    }\n",
       "\n",
       "    for (let i = 0; i < css_urls.length; i++) {\n",
       "      const url = css_urls[i];\n",
       "      const element = document.createElement(\"link\");\n",
       "      element.onload = on_load;\n",
       "      element.onerror = on_error.bind(null, url);\n",
       "      element.rel = \"stylesheet\";\n",
       "      element.type = \"text/css\";\n",
       "      element.href = url;\n",
       "      console.debug(\"Bokeh: injecting link tag for BokehJS stylesheet: \", url);\n",
       "      document.body.appendChild(element);\n",
       "    }\n",
       "\n",
       "    const hashes = {\"https://cdn.bokeh.org/bokeh/release/bokeh-2.3.1.min.js\": \"YF85VygJKMVnHE+lLv2AM93Vbstr0yo2TbIu5v8se5Rq3UQAUmcuh4aaJwNlpKwa\", \"https://cdn.bokeh.org/bokeh/release/bokeh-widgets-2.3.1.min.js\": \"KKuas3gevv3PvrlkyCMzffFeaMq5we/a2QsP5AUoS3mJ0jmaCL7jirFJN3GoE/lM\", \"https://cdn.bokeh.org/bokeh/release/bokeh-tables-2.3.1.min.js\": \"MK/uFc3YT18pkvvXRl66tTHjP0/dxoSH2e/eiNMFIguKlun2+WVqaPTWmUy/zvh4\"};\n",
       "\n",
       "    for (let i = 0; i < js_urls.length; i++) {\n",
       "      const url = js_urls[i];\n",
       "      const element = document.createElement('script');\n",
       "      element.onload = on_load;\n",
       "      element.onerror = on_error.bind(null, url);\n",
       "      element.async = false;\n",
       "      element.src = url;\n",
       "      if (url in hashes) {\n",
       "        element.crossOrigin = \"anonymous\";\n",
       "        element.integrity = \"sha384-\" + hashes[url];\n",
       "      }\n",
       "      console.debug(\"Bokeh: injecting script tag for BokehJS library: \", url);\n",
       "      document.head.appendChild(element);\n",
       "    }\n",
       "  };\n",
       "\n",
       "  function inject_raw_css(css) {\n",
       "    const element = document.createElement(\"style\");\n",
       "    element.appendChild(document.createTextNode(css));\n",
       "    document.body.appendChild(element);\n",
       "  }\n",
       "\n",
       "  \n",
       "  var js_urls = [\"https://cdn.bokeh.org/bokeh/release/bokeh-2.3.1.min.js\", \"https://cdn.bokeh.org/bokeh/release/bokeh-widgets-2.3.1.min.js\", \"https://cdn.bokeh.org/bokeh/release/bokeh-tables-2.3.1.min.js\"];\n",
       "  var css_urls = [];\n",
       "  \n",
       "\n",
       "  var inline_js = [\n",
       "    function(Bokeh) {\n",
       "      Bokeh.set_log_level(\"info\");\n",
       "    },\n",
       "    function(Bokeh) {\n",
       "    \n",
       "    \n",
       "    }\n",
       "  ];\n",
       "\n",
       "  function run_inline_js() {\n",
       "    \n",
       "    if (root.Bokeh !== undefined || force === true) {\n",
       "      \n",
       "    for (var i = 0; i < inline_js.length; i++) {\n",
       "      inline_js[i].call(root, root.Bokeh);\n",
       "    }\n",
       "    if (force === true) {\n",
       "        display_loaded();\n",
       "      }} else if (Date.now() < root._bokeh_timeout) {\n",
       "      setTimeout(run_inline_js, 100);\n",
       "    } else if (!root._bokeh_failed_load) {\n",
       "      console.log(\"Bokeh: BokehJS failed to load within specified timeout.\");\n",
       "      root._bokeh_failed_load = true;\n",
       "    } else if (force !== true) {\n",
       "      var cell = $(document.getElementById(\"1002\")).parents('.cell').data().cell;\n",
       "      cell.output_area.append_execute_result(NB_LOAD_WARNING)\n",
       "    }\n",
       "\n",
       "  }\n",
       "\n",
       "  if (root._bokeh_is_loading === 0) {\n",
       "    console.debug(\"Bokeh: BokehJS loaded, going straight to plotting\");\n",
       "    run_inline_js();\n",
       "  } else {\n",
       "    load_libs(css_urls, js_urls, function() {\n",
       "      console.debug(\"Bokeh: BokehJS plotting callback run at\", now());\n",
       "      run_inline_js();\n",
       "    });\n",
       "  }\n",
       "}(window));"
      ],
      "application/vnd.bokehjs_load.v0+json": "\n(function(root) {\n  function now() {\n    return new Date();\n  }\n\n  var force = true;\n\n  if (typeof root._bokeh_onload_callbacks === \"undefined\" || force === true) {\n    root._bokeh_onload_callbacks = [];\n    root._bokeh_is_loading = undefined;\n  }\n\n  \n\n  \n  if (typeof (root._bokeh_timeout) === \"undefined\" || force === true) {\n    root._bokeh_timeout = Date.now() + 5000;\n    root._bokeh_failed_load = false;\n  }\n\n  var NB_LOAD_WARNING = {'data': {'text/html':\n     \"<div style='background-color: #fdd'>\\n\"+\n     \"<p>\\n\"+\n     \"BokehJS does not appear to have successfully loaded. If loading BokehJS from CDN, this \\n\"+\n     \"may be due to a slow or bad network connection. Possible fixes:\\n\"+\n     \"</p>\\n\"+\n     \"<ul>\\n\"+\n     \"<li>re-rerun `output_notebook()` to attempt to load from CDN again, or</li>\\n\"+\n     \"<li>use INLINE resources instead, as so:</li>\\n\"+\n     \"</ul>\\n\"+\n     \"<code>\\n\"+\n     \"from bokeh.resources import INLINE\\n\"+\n     \"output_notebook(resources=INLINE)\\n\"+\n     \"</code>\\n\"+\n     \"</div>\"}};\n\n  function display_loaded() {\n    var el = document.getElementById(\"1002\");\n    if (el != null) {\n      el.textContent = \"BokehJS is loading...\";\n    }\n    if (root.Bokeh !== undefined) {\n      if (el != null) {\n        el.textContent = \"BokehJS \" + root.Bokeh.version + \" successfully loaded.\";\n      }\n    } else if (Date.now() < root._bokeh_timeout) {\n      setTimeout(display_loaded, 100)\n    }\n  }\n\n\n  function run_callbacks() {\n    try {\n      root._bokeh_onload_callbacks.forEach(function(callback) {\n        if (callback != null)\n          callback();\n      });\n    } finally {\n      delete root._bokeh_onload_callbacks\n    }\n    console.debug(\"Bokeh: all callbacks have finished\");\n  }\n\n  function load_libs(css_urls, js_urls, callback) {\n    if (css_urls == null) css_urls = [];\n    if (js_urls == null) js_urls = [];\n\n    root._bokeh_onload_callbacks.push(callback);\n    if (root._bokeh_is_loading > 0) {\n      console.debug(\"Bokeh: BokehJS is being loaded, scheduling callback at\", now());\n      return null;\n    }\n    if (js_urls == null || js_urls.length === 0) {\n      run_callbacks();\n      return null;\n    }\n    console.debug(\"Bokeh: BokehJS not loaded, scheduling load and callback at\", now());\n    root._bokeh_is_loading = css_urls.length + js_urls.length;\n\n    function on_load() {\n      root._bokeh_is_loading--;\n      if (root._bokeh_is_loading === 0) {\n        console.debug(\"Bokeh: all BokehJS libraries/stylesheets loaded\");\n        run_callbacks()\n      }\n    }\n\n    function on_error(url) {\n      console.error(\"failed to load \" + url);\n    }\n\n    for (let i = 0; i < css_urls.length; i++) {\n      const url = css_urls[i];\n      const element = document.createElement(\"link\");\n      element.onload = on_load;\n      element.onerror = on_error.bind(null, url);\n      element.rel = \"stylesheet\";\n      element.type = \"text/css\";\n      element.href = url;\n      console.debug(\"Bokeh: injecting link tag for BokehJS stylesheet: \", url);\n      document.body.appendChild(element);\n    }\n\n    const hashes = {\"https://cdn.bokeh.org/bokeh/release/bokeh-2.3.1.min.js\": \"YF85VygJKMVnHE+lLv2AM93Vbstr0yo2TbIu5v8se5Rq3UQAUmcuh4aaJwNlpKwa\", \"https://cdn.bokeh.org/bokeh/release/bokeh-widgets-2.3.1.min.js\": \"KKuas3gevv3PvrlkyCMzffFeaMq5we/a2QsP5AUoS3mJ0jmaCL7jirFJN3GoE/lM\", \"https://cdn.bokeh.org/bokeh/release/bokeh-tables-2.3.1.min.js\": \"MK/uFc3YT18pkvvXRl66tTHjP0/dxoSH2e/eiNMFIguKlun2+WVqaPTWmUy/zvh4\"};\n\n    for (let i = 0; i < js_urls.length; i++) {\n      const url = js_urls[i];\n      const element = document.createElement('script');\n      element.onload = on_load;\n      element.onerror = on_error.bind(null, url);\n      element.async = false;\n      element.src = url;\n      if (url in hashes) {\n        element.crossOrigin = \"anonymous\";\n        element.integrity = \"sha384-\" + hashes[url];\n      }\n      console.debug(\"Bokeh: injecting script tag for BokehJS library: \", url);\n      document.head.appendChild(element);\n    }\n  };\n\n  function inject_raw_css(css) {\n    const element = document.createElement(\"style\");\n    element.appendChild(document.createTextNode(css));\n    document.body.appendChild(element);\n  }\n\n  \n  var js_urls = [\"https://cdn.bokeh.org/bokeh/release/bokeh-2.3.1.min.js\", \"https://cdn.bokeh.org/bokeh/release/bokeh-widgets-2.3.1.min.js\", \"https://cdn.bokeh.org/bokeh/release/bokeh-tables-2.3.1.min.js\"];\n  var css_urls = [];\n  \n\n  var inline_js = [\n    function(Bokeh) {\n      Bokeh.set_log_level(\"info\");\n    },\n    function(Bokeh) {\n    \n    \n    }\n  ];\n\n  function run_inline_js() {\n    \n    if (root.Bokeh !== undefined || force === true) {\n      \n    for (var i = 0; i < inline_js.length; i++) {\n      inline_js[i].call(root, root.Bokeh);\n    }\n    if (force === true) {\n        display_loaded();\n      }} else if (Date.now() < root._bokeh_timeout) {\n      setTimeout(run_inline_js, 100);\n    } else if (!root._bokeh_failed_load) {\n      console.log(\"Bokeh: BokehJS failed to load within specified timeout.\");\n      root._bokeh_failed_load = true;\n    } else if (force !== true) {\n      var cell = $(document.getElementById(\"1002\")).parents('.cell').data().cell;\n      cell.output_area.append_execute_result(NB_LOAD_WARNING)\n    }\n\n  }\n\n  if (root._bokeh_is_loading === 0) {\n    console.debug(\"Bokeh: BokehJS loaded, going straight to plotting\");\n    run_inline_js();\n  } else {\n    load_libs(css_urls, js_urls, function() {\n      console.debug(\"Bokeh: BokehJS plotting callback run at\", now());\n      run_inline_js();\n    });\n  }\n}(window));"
     },
     "metadata": {},
     "output_type": "display_data"
    }
   ],
   "source": [
    "output_notebook()\n",
    "def update_aset_cond(Asset_Name):\n",
    "    df             = assets.Asset_Portfolio_List\n",
    "    asset_id = df[df['Name'] == Asset_Name].index.values[0]\n",
    "    l_asset  = assets.Asset_Portfolio[asset_id]\n",
    "    Cond_list = list(l_asset.cond.keys())\n",
    "    interact(update_condition_plot,Cond=Cond_list,asset=fixed(l_asset))\n",
    "    \n",
    "def update_condition_plot(Cond,asset):\n",
    "    p  = plot_condition_forecast(Cond,asset,n_days)\n",
    "    show(p, notebook_handle=True)\n",
    "    push_notebook()"
   ]
  },
  {
   "cell_type": "code",
   "execution_count": 8,
   "metadata": {},
   "outputs": [
    {
     "data": {
      "application/vnd.jupyter.widget-view+json": {
       "model_id": "653599d9def441499fdb3db6b8700202",
       "version_major": 2,
       "version_minor": 0
      },
      "text/plain": [
       "interactive(children=(Dropdown(description='Asset_Name', options=('Aux_0', 'CB_0_1', 'CB_0_12', 'TR_0_1', 'TR_…"
      ]
     },
     "metadata": {},
     "output_type": "display_data"
    },
    {
     "data": {
      "text/plain": [
       "<function __main__.update_aset_cond(Asset_Name)>"
      ]
     },
     "execution_count": 8,
     "metadata": {},
     "output_type": "execute_result"
    }
   ],
   "source": [
    "asset_list_name = list(assets.Asset_Portfolio_List.Name)\n",
    "interact(update_aset_cond, Asset_Name=asset_list_name)"
   ]
  },
  {
   "cell_type": "markdown",
   "metadata": {},
   "source": [
    "## 2.2 Health index forecasting\n",
    "\\begin{equation*}\n",
    " HI \\left( {\\color{DColor9}t} \\right) = \\cfrac{\\sum\\limits_{n=1}^{N}\\beta_n(S\\left(  {\\color{DColor9}t}\\right)_n \\cdot w_n)}{\\sum\\limits_{n=1}^N\\beta_n w_n}\n",
    "\\end{equation*}"
   ]
  },
  {
   "cell_type": "code",
   "execution_count": 9,
   "metadata": {},
   "outputs": [],
   "source": [
    "def l_asset_type(asset_type):\n",
    "    df         = assets.Asset_Portfolio_List\n",
    "    asset_list = list(df[df['Type']==asset_type].Name)\n",
    "    interact(update_HI_plot, Asset_Name=asset_list)\n",
    "def update_HI_plot(Asset_Name):\n",
    "    df             = assets.Asset_Portfolio_List\n",
    "    asset_id       = df[df['Name'] == Asset_Name].index.values[0]      #global asset_id\n",
    "    print('Asset Id:' +str(asset_id))\n",
    "    asset         = assets.Asset_Portfolio[asset_id]\n",
    "    date_for      = [date_beg + datetime.timedelta(days=x) for x in range(n_days)]\n",
    "    \n",
    "    fig           = Plot_HI_Forecast_Stacked(asset,date_for)\n",
    "    show(fig, notebook_handle=True)\n",
    "    push_notebook()"
   ]
  },
  {
   "cell_type": "code",
   "execution_count": 10,
   "metadata": {},
   "outputs": [
    {
     "data": {
      "application/vnd.jupyter.widget-view+json": {
       "model_id": "eae10bd1d1fe474eb403f588d4b279fd",
       "version_major": 2,
       "version_minor": 0
      },
      "text/plain": [
       "interactive(children=(Dropdown(description='asset_type', options=('AUX', 'CB_SF6', 'TR', 'CB', 'LN', 'GEN', 'B…"
      ]
     },
     "metadata": {},
     "output_type": "display_data"
    },
    {
     "data": {
      "text/plain": [
       "<function __main__.l_asset_type(asset_type)>"
      ]
     },
     "execution_count": 10,
     "metadata": {},
     "output_type": "execute_result"
    }
   ],
   "source": [
    "asset_list_type = list(assets.Asset_Portfolio_List['Type'].unique())\n",
    "interact(l_asset_type, asset_type=asset_list_type)"
   ]
  },
  {
   "cell_type": "code",
   "execution_count": 11,
   "metadata": {},
   "outputs": [],
   "source": [
    "# Radar plots\n",
    "def choose_asset_type_radar(asset_type,Assets):\n",
    "    df         = Assets.Asset_Portfolio_List\n",
    "    asset_list = list(df[df['Type']==asset_type].Name)\n",
    "    interact(plot_condition_radar, Asset_Name = asset_list,assets=fixed(Assets))\n",
    "    \n",
    "def plot_condition_radar(Asset_Name,assets):     \n",
    "    df = assets.Asset_Portfolio_List\n",
    "    asset_list = df[df['Name']==Asset_Name]\n",
    "    asset_id   = list(asset_list.index)[0]\n",
    "    l_asset    = assets.Asset_Portfolio[asset_id]      \n",
    "    Radar_Plot_by_Asset(l_asset,test_date)"
   ]
  },
  {
   "cell_type": "code",
   "execution_count": 12,
   "metadata": {},
   "outputs": [
    {
     "data": {
      "application/vnd.jupyter.widget-view+json": {
       "model_id": "a1d71f1a2f7a44a0a1790739859ccce6",
       "version_major": 2,
       "version_minor": 0
      },
      "text/plain": [
       "interactive(children=(Dropdown(description='asset_type', options=('AUX', 'CB_SF6', 'TR', 'CB', 'LN', 'GEN', 'B…"
      ]
     },
     "metadata": {},
     "output_type": "display_data"
    },
    {
     "data": {
      "text/plain": [
       "<function __main__.choose_asset_type_radar(asset_type, Assets)>"
      ]
     },
     "execution_count": 12,
     "metadata": {},
     "output_type": "execute_result"
    }
   ],
   "source": [
    "test_date        = [date_beg,test_date_2,test_date_3,test_date_4,test_date_5] \n",
    "df               = assets.Asset_Portfolio_List\n",
    "asset_type       = assets.Asset_Portfolio_List['Type'].unique()\n",
    "interact(choose_asset_type_radar, asset_type=asset_type,Assets=fixed(assets))"
   ]
  },
  {
   "cell_type": "markdown",
   "metadata": {},
   "source": [
    "## Asset fleet"
   ]
  },
  {
   "cell_type": "markdown",
   "metadata": {},
   "source": [
    "\n",
    "\\begin{equation*}\n",
    "POF \\left(  {\\color{DColor9}t}\\right)= 1-R\\left( {\\color{DColor9}t}\\right)\n",
    "\\end{equation*}\n",
    "\n",
    "\\begin{equation*}\n",
    "R \\left(  {\\color{DColor9}t} \\right)= e^{-\\int_{T_i}^{T_{end}}\\lambda \\left( {\\color{DColor9}t}\\right) \\, dt}\n",
    "\\end{equation*}\n",
    "\n",
    "\n",
    "\n",
    "\n",
    "\\begin{equation*}\n",
    "\\lambda\\left( {\\color{DColor9}t}\\right)= {\\color{DColor3}a} \\cdot e^{ {\\color{DColor3}b}\\cdot HI \\left( {\\color{DColor9}t}\\right)}+ {\\color{DColor3}c}\n",
    "\\end{equation*}"
   ]
  },
  {
   "cell_type": "code",
   "execution_count": 13,
   "metadata": {},
   "outputs": [],
   "source": [
    "# Historical Health index plot\n",
    "# Radar plots\n",
    "def HI_Radar_Plot_type(l_type,Assets):\n",
    "    print(l_type)\n",
    "    if l_type== 'HI':\n",
    "        HI_Radar_Plot_I(assets,test_date,Type=asset_type)\n",
    "    elif l_type== 'POF':\n",
    "        POF_Radar_Plot_I(assets,15*8760,test_date,date_beg,Type=asset_type)"
   ]
  },
  {
   "cell_type": "code",
   "execution_count": 14,
   "metadata": {},
   "outputs": [
    {
     "data": {
      "application/vnd.jupyter.widget-view+json": {
       "model_id": "3096952a5e0740a2a10339d47d9d2ed5",
       "version_major": 2,
       "version_minor": 0
      },
      "text/plain": [
       "interactive(children=(Dropdown(description='l_type', options=('HI', 'POF'), value='HI'), Output()), _dom_class…"
      ]
     },
     "metadata": {},
     "output_type": "display_data"
    },
    {
     "data": {
      "text/plain": [
       "<function __main__.HI_Radar_Plot_type(l_type, Assets)>"
      ]
     },
     "execution_count": 14,
     "metadata": {},
     "output_type": "execute_result"
    }
   ],
   "source": [
    "l_list = ['HI','POF']\n",
    "interact(HI_Radar_Plot_type, l_type=l_list,Assets=fixed(assets))"
   ]
  },
  {
   "cell_type": "markdown",
   "metadata": {},
   "source": [
    "## Decision Making assessment"
   ]
  },
  {
   "cell_type": "markdown",
   "metadata": {},
   "source": [
    "### Load decisicion making Module"
   ]
  },
  {
   "cell_type": "code",
   "execution_count": 15,
   "metadata": {},
   "outputs": [],
   "source": [
    "from ARM_Run import load_criticality\n",
    "from PywerAM_Scenario_Assessment import Decision_Making\n",
    "from OPT_Module import OPT\n",
    "import plotly.graph_objects as go\n",
    "from scipy.optimize import minimize\n",
    "import numpy as np\n",
    "from plotly.subplots import make_subplots\n",
    "\n",
    "df_Fixed_Cr           = load_criticality(cr_type=case_settings['Cr'],assets=assets.Asset_Portfolio_List)  # Fixed criticality\n",
    "df_ACP                = load_criticality()    # Montecarlo simulations\n",
    "DMS                   = Decision_Making(assets,DF_ACP=df_ACP,df_AC_Fixed=df_Fixed_Cr)\n",
    "DMS.load_scenario_base()\n",
    "\n",
    "t_end     = 35       # Assumed asset end of life"
   ]
  },
  {
   "cell_type": "code",
   "execution_count": 16,
   "metadata": {},
   "outputs": [],
   "source": [
    "from ST_AM_Contingencies_Analysis import Real_Time_Contingencies as Cont_Assessment\n",
    "Cont_A = Cont_Assessment(case_settings,pp_case='json')"
   ]
  },
  {
   "cell_type": "code",
   "execution_count": 17,
   "metadata": {},
   "outputs": [
    {
     "name": "stdout",
     "output_type": "stream",
     "text": [
      "          Asset_Name     Des_Type        Date\n",
      "Project_1      Aux_0      Replace  2027/10/01\n",
      "Project_2     CB_0_1  Maintenance  2023/10/01\n",
      "Project_3    CB_0_12  Maintenance  2025/01/01\n",
      "Project_4    TR_0_12  Maintenance  2030/10/01\n",
      "Project_5      CB_R1  Maintenance  2027/10/01\n",
      "Project_6     CB_CI1  Maintenance  2027/10/01\n",
      "Project_7   Line_1_2  Maintenance  2026/10/01\n",
      "Project_8   Line_7_8  Maintenance  2027/10/01\n",
      "Project_9       ST_5      Replace  2032/10/01\n"
     ]
    }
   ],
   "source": [
    "print(Cont_A.AM_Plan)"
   ]
  },
  {
   "cell_type": "code",
   "execution_count": 37,
   "metadata": {},
   "outputs": [],
   "source": [
    "def asset_type_failure_plot(asset_type):\n",
    "    l_list = assets.Asset_Portfolio_List[assets.Asset_Portfolio_List.Type==asset_type].Name\n",
    "    interact(asset_failure_rate_plot, Asset_Name=l_list)\n",
    "def asset_failure_rate_plot(Asset_Name):\n",
    "    df          = assets.Asset_Portfolio_List\n",
    "    asset_id    = df[df['Name'] == Asset_Name].index.values[0]\n",
    "    l_asset     = assets.Asset_Portfolio[asset_id]\n",
    "    data        = DMS.scenario['Base'][asset_id]\n",
    "    opt_des     = OPT(l_asset,data)    \n",
    "    \n",
    "    df_current  = opt_des.Current_Con_Rel_asseesment(t_end)  # Do noting\n",
    "    \n",
    "    # # # # # # # # # # # # # # # # # # # # # # # # # # # # # # # # # # # # \n",
    "    # Create figure with secondary y-axis\n",
    "    fig = make_subplots(rows=2, cols=1,specs=[[{\"secondary_y\": True}],[{\"secondary_y\": False}]])\n",
    "    # Add traces\n",
    "    fig.add_trace(go.Scatter(x=df_current.Time, y=df_current.FR, name='Do nothing',line=dict(color='rgb(55, 83, 109)')),secondary_y=False,row=1, col=1)\n",
    "    fig.add_trace(go.Scatter(x=df_current.Time, y=df_current.Sum_Fr, name='Cumulative',line=dict(color='rgb(55, 83, 109)', width=2, dash='dash')),secondary_y=True,row=1, col=1)\n",
    "    \n",
    "    # Add figure title\n",
    "    # Set y-axes titles\n",
    "    fig.update_yaxes(title_text=\"Failure rate per year\", secondary_y=False)\n",
    "    fig.update_yaxes(title_text='Cumulative Failure rate', secondary_y=True)\n",
    "    fig.add_trace(go.Scatter(x=df_current.Time, y=df_current.pof,line=dict(color='rgb(55, 83, 109)'),showlegend=False),row=2, col=1)  \n",
    "    \n",
    "    # # # # # # # # # # # # # # # # # # Probability of failure # # # # # # # # # # # # # # # # # #\n",
    "    # Identify project from the AM plan\n",
    "    project = Cont_A.AM_Plan[Cont_A.AM_Plan['Asset_Name']==Asset_Name]\n",
    "   \n",
    "    if not project.empty:\n",
    "        print(project)\n",
    "        project = project.iloc[0]\n",
    "        t_desc  = pd.to_datetime(project.Date).date()\n",
    "        t_remp  = (t_desc-date_beg).days/365.25  # Replacement time\n",
    "        if project.Des_Type == 'Replace':\n",
    "            df_remp     = opt_des.Replacement_asseesment(t_end,t_remp)\n",
    "            fig.add_trace(go.Scatter(x=df_remp.Time, y=df_remp.FR, name='Replacement',line=dict(color='firebrick')),secondary_y=False,row=1, col=1)\n",
    "            fig.add_trace(go.Scatter(x=df_remp.Time, y=df_remp.Sum_Fr, name='Cumulative',line=dict(color='firebrick', width=2, dash='dash')),secondary_y=True,row=1, col=1)\n",
    "            fig.add_trace(go.Scatter(x=df_remp.Time, y=df_remp.pof,line=dict(color='firebrick'),showlegend=False),row=2, col=1)   \n",
    "        elif project.Des_Type == 'Maintenance':\n",
    "            opt_des.maint_conditions(hi_rem=0.2)\n",
    "            df_maint  = opt_des.Maintenance_asseesment(t_end,t_remp)\n",
    "            fig.add_trace(go.Scatter(x=df_maint.Time, y=df_maint.FR, name='Maintenance',line=dict(color='firebrick')),secondary_y=False,row=1, col=1)\n",
    "            fig.add_trace(go.Scatter(x=df_maint.Time, y=df_maint.Sum_Fr, name='Cumulative',line=dict(color='firebrick', width=2, dash='dash')),secondary_y=True,row=1, col=1)\n",
    "            fig.add_trace(go.Scatter(x=df_maint.Time, y=df_maint.pof,line=dict(color='firebrick'),showlegend=False),row=2, col=1)   \n",
    "        else:\n",
    "            print('The decision does not exist')\n",
    "    fig.update_yaxes(title_text=\"Probability of Failure\", row=2, col=1)\n",
    "    \n",
    "    # Set x-axis title\n",
    "    fig.update_xaxes(title_text=\"Time\", row=2, col=1)\n",
    "    fig.update_layout(margin=dict(l=10, r=10, t=10, b=10),)\n",
    "    \n",
    "    fig.update_layout(paper_bgcolor='rgb(255,255,255)',plot_bgcolor='rgb(255,255,255)')\n",
    "    fig.update_layout(margin=dict(l=10, r=10, t=10, b=10))\n",
    "    fig.update_layout(legend=dict(x=0,y=0.9,))\n",
    "    fig.update_xaxes(showline=True, linewidth=2, linecolor='black', mirror=True)\n",
    "    fig.update_yaxes(showline=True, linewidth=2, linecolor='black', mirror=True)    \n",
    "    \n",
    "    fig.show()    "
   ]
  },
  {
   "cell_type": "code",
   "execution_count": 38,
   "metadata": {},
   "outputs": [
    {
     "data": {
      "application/vnd.jupyter.widget-view+json": {
       "model_id": "fd9a6528303a4e578119d5e85db1e2ec",
       "version_major": 2,
       "version_minor": 0
      },
      "text/plain": [
       "interactive(children=(Dropdown(description='asset_type', options=('AUX', 'CB_SF6', 'TR', 'CB', 'LN', 'GEN', 'B…"
      ]
     },
     "metadata": {},
     "output_type": "display_data"
    },
    {
     "data": {
      "text/plain": [
       "<function __main__.asset_type_failure_plot(asset_type)>"
      ]
     },
     "execution_count": 38,
     "metadata": {},
     "output_type": "execute_result"
    }
   ],
   "source": [
    "interact(asset_type_failure_plot, asset_type=asset_list_type)"
   ]
  },
  {
   "cell_type": "code",
   "execution_count": null,
   "metadata": {},
   "outputs": [],
   "source": []
  }
 ],
 "metadata": {
  "kernelspec": {
   "display_name": "Python 3",
   "language": "python",
   "name": "python3"
  },
  "language_info": {
   "codemirror_mode": {
    "name": "ipython",
    "version": 3
   },
   "file_extension": ".py",
   "mimetype": "text/x-python",
   "name": "python",
   "nbconvert_exporter": "python",
   "pygments_lexer": "ipython3",
   "version": "3.7.7"
  }
 },
 "nbformat": 4,
 "nbformat_minor": 4
}
