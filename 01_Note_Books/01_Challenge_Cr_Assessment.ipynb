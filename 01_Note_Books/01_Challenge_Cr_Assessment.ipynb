{
 "cells": [
  {
   "cell_type": "markdown",
   "metadata": {
    "slideshow": {
     "slide_type": "slide"
    }
   },
   "source": [
    "<div style='width: auto; float: center'/>\n",
    "<table align=\"center\">\n",
    "    <tr>\n",
    "        <th>\n",
    "                <img src=\"https://ingenieria.unal.edu.co/pri/images/catedra_header_2021.png\" style='height: 200px; width: auto; object-fit: contain;float: right'/>                                \t\t\n",
    "        </th>     \n",
    "    </tr>\n",
    "</table>\n",
    "\n",
    "</div>\n",
    "\n",
    "<div >\n",
    "  <h1 align=\"center\">  Asset Management Principles For Modern Power Systems    </h1>  \n",
    "  <h2 align=\"center\">  Topic 1: Crticality assessment     </h2>      \n",
    "\t\t\t<h3 align=\"center\">    David L. Alvarez A, Ph.D    </h3>\n",
    "\t\t\t<h4 align=\"center\">    dlalvareza@unal.edu.co      </h4>\n",
    "            <h4 align=\"center\">    Copyright (c) 2021 dlalvareza    </h4>\n",
    "</div>\t\n",
    "\n",
    "<div style='width: auto; float: center'/>\n",
    "<table align=\"center\">\n",
    "    <tr>\n",
    "        <th>\n",
    "       <img src=\"https://www.uqtr.ca/u20-img/logos/logo-uqtr-entete.png\" style='height: 75px; width: auto; object-fit: contain;float: right'/>                                \t\n",
    "        </th>                 \n",
    "        <th>\n",
    "                <img src=\"https://oraprdnt.uqtr.uquebec.ca/pls/public/docs/GSC6627/O0003430433_GREI_LOGO_court.PNG\" style='height: 75px; width: auto; object-fit: contain;float: right'/>                                \t\t\n",
    "        </th>  \n",
    "        <th>\n",
    "                <img src=\"https://oraprdnt.uqtr.uquebec.ca/pls/public/docs/GSC6627/O0003430597_MRIF_w3_couleur.png\" style='height: 75px; width: auto; object-fit: contain;float: right'/>                                \t\t\n",
    "        </th>  \n",
    "        <th>\n",
    "       <img src=\"https://lh3.googleusercontent.com/IRmEQuk5greQjkXJHTjwSVNgc58Kd56aiP5OCWN3mlAJUYd_AHUM4j7vn05grSKZL-ABbQ=s170\" style='height: 50px; width: auto; object-fit: contain;float: right'/>                                \t\n",
    "        </th>                 \n",
    "        <th>\n",
    "                <img src=\"https://unal.edu.co/typo3conf/ext/unal_skin_default/Resources/Public/images/escudoUnal_black.png\" style='height: 75px; width: auto; object-fit: contain;float: right'/>                                \t\t\n",
    "        </th>          \n",
    "    </tr>\n",
    "</table>    "
   ]
  },
  {
   "cell_type": "markdown",
   "metadata": {
    "slideshow": {
     "slide_type": "slide"
    }
   },
   "source": [
    "## CIGRE network benchmark DER in Medium Voltage Systems\n",
    "![title](../STATIC/01_CIGRE_MV_Distribution_DER_Assets_Criticality.svg)"
   ]
  },
  {
   "cell_type": "markdown",
   "metadata": {},
   "source": [
    "## Cost of replacing assets\n",
    "| Asset Type| Cost |\n",
    "| --- | --- | \n",
    "| TR  | 2e4 | \n",
    "| OHL | 2.25e4 |\n",
    "| CB  | 5e3|\n",
    "| AUX | 2e3 |"
   ]
  },
  {
   "cell_type": "markdown",
   "metadata": {},
   "source": [
    "### Neccesary libraries"
   ]
  },
  {
   "cell_type": "code",
   "execution_count": 1,
   "metadata": {},
   "outputs": [],
   "source": [
    "import sys\n",
    "import datetime \n",
    "import pandas as pd\n",
    "import calendar\n",
    "from ipywidgets import interact\n",
    "from ipywidgets import fixed\n",
    "import plotly.express as px\n",
    "from plotly.subplots import make_subplots"
   ]
  },
  {
   "cell_type": "markdown",
   "metadata": {},
   "source": [
    "### Load PywerAPM libraries"
   ]
  },
  {
   "cell_type": "code",
   "execution_count": 2,
   "metadata": {},
   "outputs": [],
   "source": [
    "sys.path.insert(0,'../CASES/05_Challenge_Data/')\n",
    "sys.path.insert(0,'../APM/BIN/')\n",
    "from ST_AM_Contingencies_Analysis import Real_Time_Contingencies as Cont_Assessment\n",
    "from ST_AM_Contingencies_Ploty import  Plot_Stack_By_Day, Plot_Security_Opteration"
   ]
  },
  {
   "cell_type": "markdown",
   "metadata": {},
   "source": [
    "# 1. Normal opertaion "
   ]
  },
  {
   "cell_type": "markdown",
   "metadata": {},
   "source": [
    "## 1.1 Import case settings"
   ]
  },
  {
   "cell_type": "code",
   "execution_count": 3,
   "metadata": {},
   "outputs": [],
   "source": [
    "from PywerAPM_Case_Setting import*"
   ]
  },
  {
   "cell_type": "markdown",
   "metadata": {},
   "source": [
    "## 1.2 Create contingencies assessment object"
   ]
  },
  {
   "cell_type": "code",
   "execution_count": 4,
   "metadata": {},
   "outputs": [],
   "source": [
    "Cont_A = Cont_Assessment(net_file,load_data,pp_case='json')"
   ]
  },
  {
   "cell_type": "markdown",
   "metadata": {},
   "source": [
    "## 1.3 Upade load growth"
   ]
  },
  {
   "cell_type": "code",
   "execution_count": 5,
   "metadata": {},
   "outputs": [],
   "source": [
    "Cont_A.Load_Growth_Update(load_growth)"
   ]
  },
  {
   "cell_type": "markdown",
   "metadata": {},
   "source": [
    "## 1.4 Assessment of load durign a week"
   ]
  },
  {
   "cell_type": "code",
   "execution_count": 6,
   "metadata": {},
   "outputs": [],
   "source": [
    "df_base_line,df_load,_ = Cont_A.Run_Case_Load_growth(Cont_A.net,load_growth)\n",
    "S_base = sqrt((Cont_A.net.load['p_mw']**2+  Cont_A.net.load['q_mvar']**2).max())"
   ]
  },
  {
   "cell_type": "markdown",
   "metadata": {},
   "source": [
    "## 1.5 Plot load profiles by week day during 24 h"
   ]
  },
  {
   "cell_type": "code",
   "execution_count": 7,
   "metadata": {},
   "outputs": [],
   "source": [
    "def plot_load_profile(day_name):\n",
    "    fig = Plot_Stack_By_Day(df_load,day_name)"
   ]
  },
  {
   "cell_type": "code",
   "execution_count": 8,
   "metadata": {
    "scrolled": false
   },
   "outputs": [
    {
     "data": {
      "application/vnd.jupyter.widget-view+json": {
       "model_id": "eba225a64bef4a5aa42521bcaea4f502",
       "version_major": 2,
       "version_minor": 0
      },
      "text/plain": [
       "interactive(children=(Dropdown(description='day_name', options=('Monday', 'Tuesday', 'Wednesday', 'Thursday', …"
      ]
     },
     "metadata": {},
     "output_type": "display_data"
    },
    {
     "data": {
      "text/plain": [
       "<function __main__.plot_load_profile(day_name)>"
      ]
     },
     "execution_count": 8,
     "metadata": {},
     "output_type": "execute_result"
    }
   ],
   "source": [
    "day_list = list(calendar.day_name)\n",
    "interact(plot_load_profile, day_name=day_list)"
   ]
  },
  {
   "cell_type": "markdown",
   "metadata": {},
   "source": [
    "## 1.6 Plot security assessment by week day during 24 h"
   ]
  },
  {
   "cell_type": "code",
   "execution_count": 9,
   "metadata": {},
   "outputs": [],
   "source": [
    "def plot_security_profile_type(day_name,df):\n",
    "    l_asset = ['TR','BU','LN']\n",
    "    interact(plot_security_profile,l_type=l_asset,day_name=fixed(day_name),df = fixed(df))\n",
    "    \n",
    "def plot_security_profile(l_type,day_name,df):\n",
    "    TR = False\n",
    "    LN = False\n",
    "    BU = False\n",
    "    if l_type=='TR':\n",
    "        TR  = True\n",
    "    elif l_type=='LN':\n",
    "        LN  = True\n",
    "    elif l_type=='BU':\n",
    "        BU  = True\n",
    "    Plot_Security_Opteration(df,day_name,S_base,TR,LN,BU)"
   ]
  },
  {
   "cell_type": "code",
   "execution_count": 10,
   "metadata": {
    "scrolled": false
   },
   "outputs": [
    {
     "data": {
      "application/vnd.jupyter.widget-view+json": {
       "model_id": "e29acc53d5044a26af4f54814ae74e77",
       "version_major": 2,
       "version_minor": 0
      },
      "text/plain": [
       "interactive(children=(Dropdown(description='day_name', options=('Monday', 'Tuesday', 'Wednesday', 'Thursday', …"
      ]
     },
     "metadata": {},
     "output_type": "display_data"
    },
    {
     "data": {
      "text/plain": [
       "<function __main__.plot_security_profile_type(day_name, df)>"
      ]
     },
     "execution_count": 10,
     "metadata": {},
     "output_type": "execute_result"
    }
   ],
   "source": [
    "interact(plot_security_profile_type, day_name=day_list,df=fixed(df_base_line))"
   ]
  },
  {
   "cell_type": "markdown",
   "metadata": {},
   "source": [
    "# 2. Contingency assessment"
   ]
  },
  {
   "cell_type": "code",
   "execution_count": 11,
   "metadata": {},
   "outputs": [],
   "source": [
    "def Contingency_Assessment(day_name=day_list):\n",
    "    asset_type_list = Cont_A.asset_list['Type'].unique()\n",
    "    interact(Asset_Selection, asset_type=asset_type_list,day=fixed(day_name))    \n",
    "def Asset_Selection(asset_type,day):\n",
    "    asset_id_list                = Cont_A.asset_list[Cont_A.asset_list['Type']==asset_type].index.values\n",
    "    interact(disc_asset, asset_id=asset_id_list,day=fixed(day))  \n",
    "def disc_asset(asset_id,day):\n",
    "    asset_fail                        = asset_id\n",
    "    net_lf                            = Cont_A.Net_Configurarion_during_Contingency(Cont_A.net,asset_fail)\n",
    "    df_base_C,df_load_C,sec_assesment = Cont_A.Run_Case_Load_growth(net_lf,load_growth,day=[day])\n",
    "    plot_security_profile_type(day,df_base_C)\n",
    "    hour_list = df_base_C[df_base_C.Day==day].Hour.unique()\n",
    "    sec_assesment_by_day = sec_assesment['cont'][day]\n",
    "    interact(df_security_violation_by_hour, hour=hour_list,df_sec=fixed(sec_assesment_by_day))  \n",
    "def df_security_violation_by_hour(hour,df_sec):\n",
    "    df = df_sec[hour]\n",
    "    if df.empty:\n",
    "        print('None security violations')\n",
    "    else:\n",
    "        print(df)"
   ]
  },
  {
   "cell_type": "markdown",
   "metadata": {},
   "source": [
    "## 2.1 Plot security assessment by week day for an asset disconection during 24 h"
   ]
  },
  {
   "cell_type": "code",
   "execution_count": 12,
   "metadata": {
    "scrolled": false
   },
   "outputs": [
    {
     "data": {
      "application/vnd.jupyter.widget-view+json": {
       "model_id": "16ccda7710f14a34b3504920ed8d80a2",
       "version_major": 2,
       "version_minor": 0
      },
      "text/plain": [
       "interactive(children=(Dropdown(description='day_name', options=('Monday', 'Tuesday', 'Wednesday', 'Thursday', …"
      ]
     },
     "metadata": {},
     "output_type": "display_data"
    },
    {
     "data": {
      "text/plain": [
       "<function __main__.Contingency_Assessment(day_name=['Monday', 'Tuesday', 'Wednesday', 'Thursday', 'Friday', 'Saturday', 'Sunday'])>"
      ]
     },
     "execution_count": 12,
     "metadata": {},
     "output_type": "execute_result"
    }
   ],
   "source": [
    "interact(Contingency_Assessment, day_name=day_list)"
   ]
  },
  {
   "cell_type": "markdown",
   "metadata": {},
   "source": [
    "## 2.2 Energy supplied and generation assessment"
   ]
  },
  {
   "cell_type": "code",
   "execution_count": 13,
   "metadata": {},
   "outputs": [],
   "source": [
    "def Contingency_Assessment_Energy(day_name=day_list):\n",
    "    asset_type_list = Cont_A.asset_list['Type'].unique()\n",
    "    interact(Asset_Selection_E, asset_type=asset_type_list,day=fixed(day_name))    \n",
    "def Asset_Selection_E(asset_type,day):\n",
    "    asset_id_list                = Cont_A.asset_list[Cont_A.asset_list['Type']==asset_type].index.values\n",
    "    interact(disc_asset_E, asset_id=asset_id_list,day=fixed(day))  \n",
    "def disc_asset_E(asset_id,day):\n",
    "    asset_fail                        = asset_id\n",
    "    net_lf                            = Cont_A.Net_Configurarion_during_Contingency(Cont_A.net,asset_fail)\n",
    "    df_base_C,df_load_C,sec_assesment = Cont_A.Run_Case_Load_growth(net_lf,load_growth,day=[day])\n",
    "    hour_list = df_base_C[df_base_C.Day==day].Hour.unique()\n",
    "    sec_assesment_by_day =  sec_assesment['cr_energy'][day]\n",
    "    interact(Energy_Assessment_by_hour, hour=hour_list,df_sec=fixed(sec_assesment_by_day))  \n",
    "def Energy_Assessment_by_hour(hour,df_sec):\n",
    "    # Load\n",
    "    df      = df_sec[hour]\n",
    "    df_load = df['Load']\n",
    "    df_load = df_load.melt(id_vars =['name']) \n",
    "    fig1    = px.sunburst(df_load, path=['variable','name'], values='value')\n",
    "    # Generation\n",
    "    df_gen = df['Gen']\n",
    "    fig2 = px.sunburst(df_gen, path=['source','name'], values='gen')\n",
    "    # ploting    \n",
    "    fig = make_subplots(rows=1, cols=2, specs=[[{\"type\": \"sunburst\"}, {\"type\": \"sunburst\"}]])\n",
    "    fig.add_trace(fig1.data[0], row=1, col=1)\n",
    "    fig.add_trace(fig2.data[0], row=1, col=2)\n",
    "    fig.show()"
   ]
  },
  {
   "cell_type": "code",
   "execution_count": 14,
   "metadata": {
    "scrolled": false
   },
   "outputs": [
    {
     "data": {
      "application/vnd.jupyter.widget-view+json": {
       "model_id": "357be0d4f77040df9e0f033ac614e087",
       "version_major": 2,
       "version_minor": 0
      },
      "text/plain": [
       "interactive(children=(Dropdown(description='day_name', options=('Monday', 'Tuesday', 'Wednesday', 'Thursday', …"
      ]
     },
     "metadata": {},
     "output_type": "display_data"
    },
    {
     "data": {
      "text/plain": [
       "<function __main__.Contingency_Assessment_Energy(day_name=['Monday', 'Tuesday', 'Wednesday', 'Thursday', 'Friday', 'Saturday', 'Sunday'])>"
      ]
     },
     "execution_count": 14,
     "metadata": {},
     "output_type": "execute_result"
    }
   ],
   "source": [
    "interact(Contingency_Assessment_Energy, day_name=day_list)"
   ]
  },
  {
   "cell_type": "markdown",
   "metadata": {},
   "source": [
    "## 2.3 Operational Criticality  monetizacion \n",
    "$$Benefit = ES_c-EG_c-ENS_c$$"
   ]
  },
  {
   "cell_type": "code",
   "execution_count": 15,
   "metadata": {},
   "outputs": [],
   "source": [
    "from ACM_Module import ACM\n",
    "criticality = ACM(Cont_A.load_user,Cont_A.gen_data)"
   ]
  },
  {
   "cell_type": "code",
   "execution_count": 16,
   "metadata": {},
   "outputs": [],
   "source": [
    "def Contingency_Assessment_Cost(day_name=day_list):\n",
    "    asset_type_list = Cont_A.asset_list['Type'].unique()\n",
    "    interact(Asset_Selection_Cost, asset_type=asset_type_list,day=fixed(day_name))    \n",
    "def Asset_Selection_Cost(asset_type,day):\n",
    "    asset_id_list                = Cont_A.asset_list[Cont_A.asset_list['Type']==asset_type].index.values\n",
    "    interact(disc_asset_Cost, asset_id=asset_id_list,day=fixed(day))  \n",
    "def disc_asset_Cost(asset_id,day):\n",
    "    asset_fail                        = asset_id\n",
    "    net_lf                            = Cont_A.Net_Configurarion_during_Contingency(Cont_A.net,asset_fail)\n",
    "    df_base_C,df_load_C,sec_assesment = Cont_A.Run_Case_Load_growth(net_lf,load_growth,day=[day])\n",
    "    hour_list = df_base_C[df_base_C.Day==day].Hour.unique()\n",
    "    sec_assesment_by_day =  sec_assesment['cr_energy'][day]\n",
    "    interact(Cost_Assessment_by_hour, hour=hour_list,df_sec=fixed(sec_assesment_by_day))  \n",
    "def Cost_Assessment_by_hour(hour,df_sec):\n",
    "    # Load\n",
    "    df           = df_sec[hour]\n",
    "    df_load      = df['Load']\n",
    "    df_cr_load   = criticality.Monetized_Energy_During_Contingency_by_hour(df_load) \n",
    "    df_cr_load   = df_cr_load.reset_index()\n",
    "    df_load      = df_cr_load.melt(id_vars =['name']) \n",
    "    fig1         = px.sunburst(df_load, path=['variable','name'], values='value')\n",
    "    # Generation\n",
    "    df_gen       = df['Gen']\n",
    "    df_cr_gen    = criticality.Monetized_Gen_During_Contingency_by_hour(df_gen) \n",
    "    df_cr_gen    = df_cr_gen.reset_index()\n",
    "    df_gen       = df_cr_gen.melt(id_vars =['name']) \n",
    "    fig2         = px.sunburst(df_gen, path=['variable','name'], values='value')\n",
    "    # ploting    \n",
    "    fig          = make_subplots(rows=1, cols=2, specs=[[{\"type\": \"sunburst\"}, {\"type\": \"sunburst\"}]])\n",
    "    fig.add_trace(fig1.data[0], row=1, col=1)\n",
    "    fig.add_trace(fig2.data[0], row=1, col=2)\n",
    "    fig.show()\n",
    "    benefit      =  str(df_cr_load['ES_Ben'].sum()-df_cr_load['ENS_Cost'].sum()-df_cr_gen['Gen_Cost'].sum()-df_cr_gen['Gen_Env'].sum())\n",
    "    print('The benfit is ='+ benefit)"
   ]
  },
  {
   "cell_type": "code",
   "execution_count": 17,
   "metadata": {
    "scrolled": false
   },
   "outputs": [
    {
     "data": {
      "application/vnd.jupyter.widget-view+json": {
       "model_id": "8e43aefed2804c08b768340c9901e17d",
       "version_major": 2,
       "version_minor": 0
      },
      "text/plain": [
       "interactive(children=(Dropdown(description='day_name', options=('Monday', 'Tuesday', 'Wednesday', 'Thursday', …"
      ]
     },
     "metadata": {},
     "output_type": "display_data"
    },
    {
     "data": {
      "text/plain": [
       "<function __main__.Contingency_Assessment_Cost(day_name=['Monday', 'Tuesday', 'Wednesday', 'Thursday', 'Friday', 'Saturday', 'Sunday'])>"
      ]
     },
     "execution_count": 17,
     "metadata": {},
     "output_type": "execute_result"
    }
   ],
   "source": [
    "interact(Contingency_Assessment_Cost, day_name=day_list)"
   ]
  },
  {
   "cell_type": "code",
   "execution_count": null,
   "metadata": {},
   "outputs": [],
   "source": []
  }
 ],
 "metadata": {
  "kernelspec": {
   "display_name": "Python 3",
   "language": "python",
   "name": "python3"
  },
  "language_info": {
   "codemirror_mode": {
    "name": "ipython",
    "version": 3
   },
   "file_extension": ".py",
   "mimetype": "text/x-python",
   "name": "python",
   "nbconvert_exporter": "python",
   "pygments_lexer": "ipython3",
   "version": "3.7.7"
  }
 },
 "nbformat": 4,
 "nbformat_minor": 4
}
