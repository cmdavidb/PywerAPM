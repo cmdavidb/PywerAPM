{
 "cells": [
  {
   "cell_type": "markdown",
   "metadata": {
    "slideshow": {
     "slide_type": "slide"
    }
   },
   "source": [
    "<div style='width: auto; float: center'/>\n",
    "<table align=\"center\">\n",
    "    <tr>\n",
    "        <th>\n",
    "                <img src=\"https://ingenieria.unal.edu.co/pri/images/catedra_header_2021.png\" style='height: 200px; width: auto; object-fit: contain;float: right'/>                                \t\t\n",
    "        </th>     \n",
    "    </tr>\n",
    "</table>\n",
    "\n",
    "</div>\n",
    "\n",
    "<div >\n",
    "  <h1 align=\"center\">  Asset Management Principles For Modern Power Systems    </h1>  \n",
    "  <h2 align=\"center\">  Topic 3: Probabilistic assessment     </h2>      \n",
    "\t\t\t<h3 align=\"center\">    David L. Alvarez A, Ph.D    </h3>\n",
    "\t\t\t<h4 align=\"center\">    dlalvareza@unal.edu.co      </h4>\n",
    "            <h4 align=\"center\">    Copyright (c) 2021 dlalvareza    </h4>\n",
    "</div>\t\n",
    "\n",
    "<div style='width: auto; float: center'/>\n",
    "<table align=\"center\">\n",
    "    <tr>\n",
    "        <th>\n",
    "       <img src=\"https://www.uqtr.ca/u20-img/logos/logo-uqtr-entete.png\" style='height: 75px; width: auto; object-fit: contain;float: right'/>                                \t\n",
    "        </th>                 \n",
    "        <th>\n",
    "                <img src=\"https://oraprdnt.uqtr.uquebec.ca/pls/public/docs/GSC6627/O0003430433_GREI_LOGO_court.PNG\" style='height: 75px; width: auto; object-fit: contain;float: right'/>                                \t\t\n",
    "        </th>  \n",
    "        <th>\n",
    "                <img src=\"https://oraprdnt.uqtr.uquebec.ca/pls/public/docs/GSC6627/O0003430597_MRIF_w3_couleur.png\" style='height: 75px; width: auto; object-fit: contain;float: right'/>                                \t\t\n",
    "        </th>  \n",
    "        <th>\n",
    "       <img src=\"https://lh3.googleusercontent.com/IRmEQuk5greQjkXJHTjwSVNgc58Kd56aiP5OCWN3mlAJUYd_AHUM4j7vn05grSKZL-ABbQ=s170\" style='height: 50px; width: auto; object-fit: contain;float: right'/>                                \t\n",
    "        </th>                 \n",
    "        <th>\n",
    "                <img src=\"https://unal.edu.co/typo3conf/ext/unal_skin_default/Resources/Public/images/escudoUnal_black.png\" style='height: 75px; width: auto; object-fit: contain;float: right'/>                                \t\t\n",
    "        </th>          \n",
    "    </tr>\n",
    "</table>    "
   ]
  },
  {
   "cell_type": "markdown",
   "metadata": {},
   "source": [
    "## Introduction\n",
    "With this notebook a probailistic assessment is performed by using Montecarlo Simulations considering the probability of failure and their impact on the net."
   ]
  },
  {
   "cell_type": "markdown",
   "metadata": {
    "slideshow": {
     "slide_type": "slide"
    }
   },
   "source": [
    "## CIGRE network benchmark DER in Medium Voltage Systems\n",
    "![title](../STATIC/01_CIGRE_MV_Distribution_DER_Assets_Criticality.svg)"
   ]
  },
  {
   "cell_type": "code",
   "execution_count": 1,
   "metadata": {},
   "outputs": [],
   "source": [
    "#!conda install --yes pyarrow"
   ]
  },
  {
   "cell_type": "markdown",
   "metadata": {},
   "source": [
    "### Neccesary libraries"
   ]
  },
  {
   "cell_type": "code",
   "execution_count": 2,
   "metadata": {},
   "outputs": [],
   "source": [
    "import sys\n",
    "import datetime \n",
    "import pandas as pd\n",
    "import calendar\n",
    "from ipywidgets import interact\n",
    "from ipywidgets import fixed\n",
    "import plotly.express as px\n",
    "from plotly.subplots import make_subplots"
   ]
  },
  {
   "cell_type": "markdown",
   "metadata": {},
   "source": [
    "### Load PywerAPM libraries"
   ]
  },
  {
   "cell_type": "code",
   "execution_count": 3,
   "metadata": {},
   "outputs": [],
   "source": [
    "sys.path.insert(0,'../CASES/05_Challenge_Data/')\n",
    "sys.path.insert(0,'../APM/BIN/')\n",
    "from ST_AM_Contingencies_Analysis import Real_Time_Contingencies as Cont_Assessment\n",
    "from APM_Module import APM "
   ]
  },
  {
   "cell_type": "markdown",
   "metadata": {},
   "source": [
    "# 1. Normal opertaion "
   ]
  },
  {
   "cell_type": "markdown",
   "metadata": {},
   "source": [
    "## 1.1 Import case settings"
   ]
  },
  {
   "cell_type": "code",
   "execution_count": 4,
   "metadata": {},
   "outputs": [],
   "source": [
    "from PywerAPM_Case_Setting import*"
   ]
  },
  {
   "cell_type": "markdown",
   "metadata": {},
   "source": [
    "## 1.2 Create contingencies assessment object"
   ]
  },
  {
   "cell_type": "code",
   "execution_count": 5,
   "metadata": {},
   "outputs": [],
   "source": [
    "Cont_A = Cont_Assessment(case_settings,pp_case='json')"
   ]
  },
  {
   "cell_type": "markdown",
   "metadata": {},
   "source": [
    "## 1.3 Upade load growth"
   ]
  },
  {
   "cell_type": "code",
   "execution_count": 6,
   "metadata": {},
   "outputs": [
    {
     "name": "stderr",
     "output_type": "stream",
     "text": [
      "../APM/BIN/APM_Module_Tools.py:35: RuntimeWarning: invalid value encountered in power\n",
      "  return (1 - np.exp(-((t*beta)**(1/alpha))))\n",
      "../APM/BIN/APM_Module_Tools.py:35: RuntimeWarning: divide by zero encountered in double_scalars\n",
      "  return (1 - np.exp(-((t*beta)**(1/alpha))))\n",
      "../APM/BIN/APM_Module_Tools.py:35: RuntimeWarning: invalid value encountered in power\n",
      "  return (1 - np.exp(-((t*beta)**(1/alpha))))\n",
      "../APM/BIN/APM_Module_Tools.py:35: RuntimeWarning: divide by zero encountered in double_scalars\n",
      "  return (1 - np.exp(-((t*beta)**(1/alpha))))\n",
      "../APM/BIN/APM_Module_Tools.py:35: RuntimeWarning: invalid value encountered in power\n",
      "  return (1 - np.exp(-((t*beta)**(1/alpha))))\n",
      "../APM/BIN/APM_Module_Tools.py:35: RuntimeWarning: divide by zero encountered in double_scalars\n",
      "  return (1 - np.exp(-((t*beta)**(1/alpha))))\n",
      "../APM/BIN/APM_Module_Tools.py:35: RuntimeWarning: invalid value encountered in power\n",
      "  return (1 - np.exp(-((t*beta)**(1/alpha))))\n",
      "../APM/BIN/APM_Module_Tools.py:35: RuntimeWarning: divide by zero encountered in double_scalars\n",
      "  return (1 - np.exp(-((t*beta)**(1/alpha))))\n",
      "../APM/BIN/APM_Module_Tools.py:35: RuntimeWarning: invalid value encountered in power\n",
      "  return (1 - np.exp(-((t*beta)**(1/alpha))))\n",
      "../APM/BIN/APM_Module_Tools.py:35: RuntimeWarning: divide by zero encountered in double_scalars\n",
      "  return (1 - np.exp(-((t*beta)**(1/alpha))))\n",
      "../APM/BIN/APM_Module_Tools.py:35: RuntimeWarning: invalid value encountered in power\n",
      "  return (1 - np.exp(-((t*beta)**(1/alpha))))\n",
      "../APM/BIN/APM_Module_Tools.py:35: RuntimeWarning: divide by zero encountered in power\n",
      "  return (1 - np.exp(-((t*beta)**(1/alpha))))\n",
      "../APM/BIN/APM_Module_Tools.py:35: RuntimeWarning: invalid value encountered in power\n",
      "  return (1 - np.exp(-((t*beta)**(1/alpha))))\n",
      "../APM/BIN/APM_Module_Tools.py:35: RuntimeWarning: divide by zero encountered in double_scalars\n",
      "  return (1 - np.exp(-((t*beta)**(1/alpha))))\n",
      "../APM/BIN/APM_Module_Tools.py:35: RuntimeWarning: invalid value encountered in power\n",
      "  return (1 - np.exp(-((t*beta)**(1/alpha))))\n",
      "../APM/BIN/APM_Module_Tools.py:35: RuntimeWarning: invalid value encountered in power\n",
      "  return (1 - np.exp(-((t*beta)**(1/alpha))))\n",
      "/home/dlalvareza/anaconda3/lib/python3.7/site-packages/pandas/core/frame.py:1554: FutureWarning: Using short name for 'orient' is deprecated. Only the options: ('dict', list, 'series', 'split', 'records', 'index') will be used in a future version. Use one of the above to silence this warning.\n",
      "  FutureWarning,\n",
      "../APM/BIN/APM_Module_Tools.py:35: RuntimeWarning: invalid value encountered in power\n",
      "  return (1 - np.exp(-((t*beta)**(1/alpha))))\n",
      "../APM/BIN/APM_Module_Tools.py:35: RuntimeWarning: invalid value encountered in power\n",
      "  return (1 - np.exp(-((t*beta)**(1/alpha))))\n",
      "../APM/BIN/APM_Module_Tools.py:35: RuntimeWarning: invalid value encountered in power\n",
      "  return (1 - np.exp(-((t*beta)**(1/alpha))))\n",
      "../APM/BIN/APM_Module_Tools.py:35: RuntimeWarning: invalid value encountered in power\n",
      "  return (1 - np.exp(-((t*beta)**(1/alpha))))\n",
      "../APM/BIN/APM_Module_Tools.py:35: RuntimeWarning: divide by zero encountered in double_scalars\n",
      "  return (1 - np.exp(-((t*beta)**(1/alpha))))\n",
      "../APM/BIN/APM_Module_Tools.py:35: RuntimeWarning: invalid value encountered in power\n",
      "  return (1 - np.exp(-((t*beta)**(1/alpha))))\n",
      "../APM/BIN/APM_Module_Tools.py:35: RuntimeWarning: divide by zero encountered in double_scalars\n",
      "  return (1 - np.exp(-((t*beta)**(1/alpha))))\n",
      "../APM/BIN/APM_Module_Tools.py:35: RuntimeWarning: invalid value encountered in power\n",
      "  return (1 - np.exp(-((t*beta)**(1/alpha))))\n",
      "../APM/BIN/APM_Module_Tools.py:35: RuntimeWarning: divide by zero encountered in power\n",
      "  return (1 - np.exp(-((t*beta)**(1/alpha))))\n",
      "../APM/BIN/APM_Module_Tools.py:35: RuntimeWarning: divide by zero encountered in double_scalars\n",
      "  return (1 - np.exp(-((t*beta)**(1/alpha))))\n",
      "../APM/BIN/APM_Module_Tools.py:35: RuntimeWarning: invalid value encountered in power\n",
      "  return (1 - np.exp(-((t*beta)**(1/alpha))))\n",
      "/home/dlalvareza/anaconda3/lib/python3.7/site-packages/pandas/core/frame.py:1554: FutureWarning: Using short name for 'orient' is deprecated. Only the options: ('dict', list, 'series', 'split', 'records', 'index') will be used in a future version. Use one of the above to silence this warning.\n",
      "  FutureWarning,\n",
      "../APM/BIN/APM_Module_Tools.py:35: RuntimeWarning: invalid value encountered in power\n",
      "  return (1 - np.exp(-((t*beta)**(1/alpha))))\n",
      "../APM/BIN/APM_Module_Tools.py:35: RuntimeWarning: divide by zero encountered in double_scalars\n",
      "  return (1 - np.exp(-((t*beta)**(1/alpha))))\n",
      "../APM/BIN/APM_Module_Tools.py:35: RuntimeWarning: invalid value encountered in power\n",
      "  return (1 - np.exp(-((t*beta)**(1/alpha))))\n",
      "../APM/BIN/APM_Module_Tools.py:35: RuntimeWarning: invalid value encountered in power\n",
      "  return (1 - np.exp(-((t*beta)**(1/alpha))))\n",
      "../APM/BIN/APM_Module_Tools.py:35: RuntimeWarning: invalid value encountered in power\n",
      "  return (1 - np.exp(-((t*beta)**(1/alpha))))\n",
      "../APM/BIN/APM_Module_Tools.py:35: RuntimeWarning: overflow encountered in power\n",
      "  return (1 - np.exp(-((t*beta)**(1/alpha))))\n",
      "../APM/BIN/APM_Module_Tools.py:35: RuntimeWarning: invalid value encountered in power\n",
      "  return (1 - np.exp(-((t*beta)**(1/alpha))))\n",
      "/home/dlalvareza/anaconda3/lib/python3.7/site-packages/pandas/core/frame.py:1554: FutureWarning: Using short name for 'orient' is deprecated. Only the options: ('dict', list, 'series', 'split', 'records', 'index') will be used in a future version. Use one of the above to silence this warning.\n",
      "  FutureWarning,\n",
      "../APM/BIN/APM_Module_Tools.py:35: RuntimeWarning: invalid value encountered in power\n",
      "  return (1 - np.exp(-((t*beta)**(1/alpha))))\n",
      "../APM/BIN/APM_Module_Tools.py:35: RuntimeWarning: invalid value encountered in power\n",
      "  return (1 - np.exp(-((t*beta)**(1/alpha))))\n",
      "../APM/BIN/APM_Module_Tools.py:35: RuntimeWarning: invalid value encountered in power\n",
      "  return (1 - np.exp(-((t*beta)**(1/alpha))))\n",
      "../APM/BIN/APM_Module_Tools.py:35: RuntimeWarning: invalid value encountered in power\n",
      "  return (1 - np.exp(-((t*beta)**(1/alpha))))\n",
      "../APM/BIN/APM_Module_Tools.py:35: RuntimeWarning: invalid value encountered in power\n",
      "  return (1 - np.exp(-((t*beta)**(1/alpha))))\n",
      "../APM/BIN/APM_Module_Tools.py:35: RuntimeWarning: divide by zero encountered in power\n",
      "  return (1 - np.exp(-((t*beta)**(1/alpha))))\n",
      "../APM/BIN/APM_Module_Tools.py:35: RuntimeWarning: invalid value encountered in power\n",
      "  return (1 - np.exp(-((t*beta)**(1/alpha))))\n",
      "../APM/BIN/APM_Module_Tools.py:35: RuntimeWarning: invalid value encountered in power\n",
      "  return (1 - np.exp(-((t*beta)**(1/alpha))))\n",
      "../APM/BIN/APM_Module_Tools.py:35: RuntimeWarning: invalid value encountered in power\n",
      "  return (1 - np.exp(-((t*beta)**(1/alpha))))\n",
      "../APM/BIN/APM_Module_Tools.py:35: RuntimeWarning: divide by zero encountered in double_scalars\n",
      "  return (1 - np.exp(-((t*beta)**(1/alpha))))\n",
      "../APM/BIN/APM_Module_Tools.py:35: RuntimeWarning: invalid value encountered in power\n",
      "  return (1 - np.exp(-((t*beta)**(1/alpha))))\n",
      "../APM/BIN/APM_Module_Tools.py:35: RuntimeWarning: invalid value encountered in power\n",
      "  return (1 - np.exp(-((t*beta)**(1/alpha))))\n",
      "../APM/BIN/APM_Module_Tools.py:35: RuntimeWarning: invalid value encountered in power\n",
      "  return (1 - np.exp(-((t*beta)**(1/alpha))))\n",
      "../APM/BIN/APM_Module_Tools.py:35: RuntimeWarning: invalid value encountered in power\n",
      "  return (1 - np.exp(-((t*beta)**(1/alpha))))\n",
      "/home/dlalvareza/anaconda3/lib/python3.7/site-packages/pandas/core/frame.py:1554: FutureWarning: Using short name for 'orient' is deprecated. Only the options: ('dict', list, 'series', 'split', 'records', 'index') will be used in a future version. Use one of the above to silence this warning.\n",
      "  FutureWarning,\n",
      "../APM/BIN/APM_Module_Tools.py:35: RuntimeWarning: invalid value encountered in power\n",
      "  return (1 - np.exp(-((t*beta)**(1/alpha))))\n",
      "../APM/BIN/APM_Module_Tools.py:35: RuntimeWarning: invalid value encountered in power\n",
      "  return (1 - np.exp(-((t*beta)**(1/alpha))))\n",
      "../APM/BIN/APM_Module_Tools.py:35: RuntimeWarning: invalid value encountered in power\n",
      "  return (1 - np.exp(-((t*beta)**(1/alpha))))\n",
      "../APM/BIN/APM_Module_Tools.py:35: RuntimeWarning: invalid value encountered in power\n",
      "  return (1 - np.exp(-((t*beta)**(1/alpha))))\n"
     ]
    },
    {
     "name": "stderr",
     "output_type": "stream",
     "text": [
      "../APM/BIN/APM_Module_Tools.py:35: RuntimeWarning: invalid value encountered in power\n",
      "  return (1 - np.exp(-((t*beta)**(1/alpha))))\n",
      "../APM/BIN/APM_Module_Tools.py:35: RuntimeWarning: invalid value encountered in power\n",
      "  return (1 - np.exp(-((t*beta)**(1/alpha))))\n",
      "../APM/BIN/APM_Module_Tools.py:35: RuntimeWarning: invalid value encountered in power\n",
      "  return (1 - np.exp(-((t*beta)**(1/alpha))))\n",
      "../APM/BIN/APM_Module_Tools.py:35: RuntimeWarning: invalid value encountered in power\n",
      "  return (1 - np.exp(-((t*beta)**(1/alpha))))\n",
      "../APM/BIN/APM_Module_Tools.py:35: RuntimeWarning: invalid value encountered in power\n",
      "  return (1 - np.exp(-((t*beta)**(1/alpha))))\n",
      "/home/dlalvareza/anaconda3/lib/python3.7/site-packages/pandas/core/frame.py:1554: FutureWarning: Using short name for 'orient' is deprecated. Only the options: ('dict', list, 'series', 'split', 'records', 'index') will be used in a future version. Use one of the above to silence this warning.\n",
      "  FutureWarning,\n",
      "../APM/BIN/APM_Module_Tools.py:35: RuntimeWarning: invalid value encountered in power\n",
      "  return (1 - np.exp(-((t*beta)**(1/alpha))))\n",
      "../APM/BIN/APM_Module_Tools.py:35: RuntimeWarning: divide by zero encountered in double_scalars\n",
      "  return (1 - np.exp(-((t*beta)**(1/alpha))))\n",
      "../APM/BIN/APM_Module_Tools.py:35: RuntimeWarning: invalid value encountered in power\n",
      "  return (1 - np.exp(-((t*beta)**(1/alpha))))\n",
      "../APM/BIN/APM_Module_Tools.py:35: RuntimeWarning: invalid value encountered in power\n",
      "  return (1 - np.exp(-((t*beta)**(1/alpha))))\n",
      "../APM/BIN/APM_Module_Tools.py:35: RuntimeWarning: invalid value encountered in power\n",
      "  return (1 - np.exp(-((t*beta)**(1/alpha))))\n",
      "/home/dlalvareza/anaconda3/lib/python3.7/site-packages/pandas/core/frame.py:1554: FutureWarning: Using short name for 'orient' is deprecated. Only the options: ('dict', list, 'series', 'split', 'records', 'index') will be used in a future version. Use one of the above to silence this warning.\n",
      "  FutureWarning,\n",
      "../APM/BIN/APM_Module_Tools.py:35: RuntimeWarning: invalid value encountered in power\n",
      "  return (1 - np.exp(-((t*beta)**(1/alpha))))\n",
      "../APM/BIN/APM_Module_Tools.py:35: RuntimeWarning: overflow encountered in power\n",
      "  return (1 - np.exp(-((t*beta)**(1/alpha))))\n",
      "../APM/BIN/APM_Module_Tools.py:35: RuntimeWarning: invalid value encountered in power\n",
      "  return (1 - np.exp(-((t*beta)**(1/alpha))))\n",
      "../APM/BIN/APM_Module_Tools.py:35: RuntimeWarning: invalid value encountered in power\n",
      "  return (1 - np.exp(-((t*beta)**(1/alpha))))\n",
      "../APM/BIN/APM_Module_Tools.py:35: RuntimeWarning: invalid value encountered in power\n",
      "  return (1 - np.exp(-((t*beta)**(1/alpha))))\n",
      "/home/dlalvareza/anaconda3/lib/python3.7/site-packages/pandas/core/frame.py:1554: FutureWarning: Using short name for 'orient' is deprecated. Only the options: ('dict', list, 'series', 'split', 'records', 'index') will be used in a future version. Use one of the above to silence this warning.\n",
      "  FutureWarning,\n",
      "../APM/BIN/APM_Module_Tools.py:35: RuntimeWarning: invalid value encountered in power\n",
      "  return (1 - np.exp(-((t*beta)**(1/alpha))))\n",
      "../APM/BIN/APM_Module_Tools.py:35: RuntimeWarning: invalid value encountered in power\n",
      "  return (1 - np.exp(-((t*beta)**(1/alpha))))\n",
      "../APM/BIN/APM_Module_Tools.py:35: RuntimeWarning: invalid value encountered in power\n",
      "  return (1 - np.exp(-((t*beta)**(1/alpha))))\n",
      "../APM/BIN/APM_Module_Tools.py:35: RuntimeWarning: divide by zero encountered in power\n",
      "  return (1 - np.exp(-((t*beta)**(1/alpha))))\n",
      "../APM/BIN/APM_Module_Tools.py:35: RuntimeWarning: invalid value encountered in power\n",
      "  return (1 - np.exp(-((t*beta)**(1/alpha))))\n",
      "/home/dlalvareza/anaconda3/lib/python3.7/site-packages/pandas/core/frame.py:1554: FutureWarning: Using short name for 'orient' is deprecated. Only the options: ('dict', list, 'series', 'split', 'records', 'index') will be used in a future version. Use one of the above to silence this warning.\n",
      "  FutureWarning,\n",
      "../APM/BIN/APM_Module_Tools.py:35: RuntimeWarning: invalid value encountered in power\n",
      "  return (1 - np.exp(-((t*beta)**(1/alpha))))\n",
      "../APM/BIN/APM_Module_Tools.py:35: RuntimeWarning: invalid value encountered in power\n",
      "  return (1 - np.exp(-((t*beta)**(1/alpha))))\n",
      "../APM/BIN/APM_Module_Tools.py:35: RuntimeWarning: invalid value encountered in power\n",
      "  return (1 - np.exp(-((t*beta)**(1/alpha))))\n",
      "../APM/BIN/APM_Module_Tools.py:35: RuntimeWarning: invalid value encountered in power\n",
      "  return (1 - np.exp(-((t*beta)**(1/alpha))))\n",
      "/home/dlalvareza/anaconda3/lib/python3.7/site-packages/pandas/core/frame.py:1554: FutureWarning: Using short name for 'orient' is deprecated. Only the options: ('dict', list, 'series', 'split', 'records', 'index') will be used in a future version. Use one of the above to silence this warning.\n",
      "  FutureWarning,\n",
      "../APM/BIN/APM_Module_Tools.py:35: RuntimeWarning: invalid value encountered in power\n",
      "  return (1 - np.exp(-((t*beta)**(1/alpha))))\n",
      "../APM/BIN/APM_Module_Tools.py:35: RuntimeWarning: divide by zero encountered in double_scalars\n",
      "  return (1 - np.exp(-((t*beta)**(1/alpha))))\n",
      "../APM/BIN/APM_Module_Tools.py:35: RuntimeWarning: invalid value encountered in power\n",
      "  return (1 - np.exp(-((t*beta)**(1/alpha))))\n",
      "../APM/BIN/APM_Module_Tools.py:35: RuntimeWarning: invalid value encountered in power\n",
      "  return (1 - np.exp(-((t*beta)**(1/alpha))))\n",
      "../APM/BIN/APM_Module_Tools.py:35: RuntimeWarning: invalid value encountered in power\n",
      "  return (1 - np.exp(-((t*beta)**(1/alpha))))\n",
      "/home/dlalvareza/anaconda3/lib/python3.7/site-packages/pandas/core/frame.py:1554: FutureWarning: Using short name for 'orient' is deprecated. Only the options: ('dict', list, 'series', 'split', 'records', 'index') will be used in a future version. Use one of the above to silence this warning.\n",
      "  FutureWarning,\n",
      "../APM/BIN/APM_Module_Tools.py:35: RuntimeWarning: invalid value encountered in power\n",
      "  return (1 - np.exp(-((t*beta)**(1/alpha))))\n",
      "../APM/BIN/APM_Module_Tools.py:35: RuntimeWarning: invalid value encountered in power\n",
      "  return (1 - np.exp(-((t*beta)**(1/alpha))))\n",
      "../APM/BIN/APM_Module_Tools.py:35: RuntimeWarning: invalid value encountered in power\n",
      "  return (1 - np.exp(-((t*beta)**(1/alpha))))\n",
      "../APM/BIN/APM_Module_Tools.py:35: RuntimeWarning: invalid value encountered in power\n",
      "  return (1 - np.exp(-((t*beta)**(1/alpha))))\n",
      "/home/dlalvareza/anaconda3/lib/python3.7/site-packages/pandas/core/frame.py:1554: FutureWarning: Using short name for 'orient' is deprecated. Only the options: ('dict', list, 'series', 'split', 'records', 'index') will be used in a future version. Use one of the above to silence this warning.\n",
      "  FutureWarning,\n",
      "../APM/BIN/APM_Module_Tools.py:35: RuntimeWarning: invalid value encountered in power\n",
      "  return (1 - np.exp(-((t*beta)**(1/alpha))))\n",
      "../APM/BIN/APM_Module_Tools.py:35: RuntimeWarning: invalid value encountered in power\n",
      "  return (1 - np.exp(-((t*beta)**(1/alpha))))\n",
      "../APM/BIN/APM_Module_Tools.py:35: RuntimeWarning: invalid value encountered in power\n",
      "  return (1 - np.exp(-((t*beta)**(1/alpha))))\n",
      "/home/dlalvareza/anaconda3/lib/python3.7/site-packages/pandas/core/frame.py:1554: FutureWarning: Using short name for 'orient' is deprecated. Only the options: ('dict', list, 'series', 'split', 'records', 'index') will be used in a future version. Use one of the above to silence this warning.\n",
      "  FutureWarning,\n",
      "../APM/BIN/APM_Module_Tools.py:35: RuntimeWarning: invalid value encountered in power\n",
      "  return (1 - np.exp(-((t*beta)**(1/alpha))))\n",
      "../APM/BIN/APM_Module_Tools.py:35: RuntimeWarning: divide by zero encountered in double_scalars\n",
      "  return (1 - np.exp(-((t*beta)**(1/alpha))))\n",
      "../APM/BIN/APM_Module_Tools.py:35: RuntimeWarning: invalid value encountered in power\n",
      "  return (1 - np.exp(-((t*beta)**(1/alpha))))\n",
      "../APM/BIN/APM_Module_Tools.py:35: RuntimeWarning: invalid value encountered in power\n",
      "  return (1 - np.exp(-((t*beta)**(1/alpha))))\n",
      "../APM/BIN/APM_Module_Tools.py:35: RuntimeWarning: divide by zero encountered in double_scalars\n",
      "  return (1 - np.exp(-((t*beta)**(1/alpha))))\n",
      "../APM/BIN/APM_Module_Tools.py:35: RuntimeWarning: invalid value encountered in power\n",
      "  return (1 - np.exp(-((t*beta)**(1/alpha))))\n",
      "/home/dlalvareza/anaconda3/lib/python3.7/site-packages/pandas/core/frame.py:1554: FutureWarning: Using short name for 'orient' is deprecated. Only the options: ('dict', list, 'series', 'split', 'records', 'index') will be used in a future version. Use one of the above to silence this warning.\n",
      "  FutureWarning,\n",
      "../APM/BIN/APM_Module_Tools.py:35: RuntimeWarning: invalid value encountered in power\n",
      "  return (1 - np.exp(-((t*beta)**(1/alpha))))\n",
      "../APM/BIN/APM_Module_Tools.py:35: RuntimeWarning: overflow encountered in power\n",
      "  return (1 - np.exp(-((t*beta)**(1/alpha))))\n",
      "../APM/BIN/APM_Module_Tools.py:35: RuntimeWarning: invalid value encountered in power\n",
      "  return (1 - np.exp(-((t*beta)**(1/alpha))))\n",
      "../APM/BIN/APM_Module_Tools.py:35: RuntimeWarning: divide by zero encountered in power\n",
      "  return (1 - np.exp(-((t*beta)**(1/alpha))))\n",
      "../APM/BIN/APM_Module_Tools.py:35: RuntimeWarning: overflow encountered in power\n",
      "  return (1 - np.exp(-((t*beta)**(1/alpha))))\n",
      "../APM/BIN/APM_Module_Tools.py:35: RuntimeWarning: invalid value encountered in power\n",
      "  return (1 - np.exp(-((t*beta)**(1/alpha))))\n",
      "../APM/BIN/APM_Module_Tools.py:35: RuntimeWarning: invalid value encountered in power\n",
      "  return (1 - np.exp(-((t*beta)**(1/alpha))))\n"
     ]
    },
    {
     "name": "stderr",
     "output_type": "stream",
     "text": [
      "/home/dlalvareza/anaconda3/lib/python3.7/site-packages/pandas/core/frame.py:1554: FutureWarning: Using short name for 'orient' is deprecated. Only the options: ('dict', list, 'series', 'split', 'records', 'index') will be used in a future version. Use one of the above to silence this warning.\n",
      "  FutureWarning,\n",
      "../APM/BIN/APM_Module_Tools.py:35: RuntimeWarning: invalid value encountered in power\n",
      "  return (1 - np.exp(-((t*beta)**(1/alpha))))\n",
      "../APM/BIN/APM_Module_Tools.py:35: RuntimeWarning: overflow encountered in power\n",
      "  return (1 - np.exp(-((t*beta)**(1/alpha))))\n",
      "../APM/BIN/APM_Module_Tools.py:35: RuntimeWarning: invalid value encountered in power\n",
      "  return (1 - np.exp(-((t*beta)**(1/alpha))))\n",
      "../APM/BIN/APM_Module_Tools.py:35: RuntimeWarning: overflow encountered in power\n",
      "  return (1 - np.exp(-((t*beta)**(1/alpha))))\n",
      "../APM/BIN/APM_Module_Tools.py:35: RuntimeWarning: invalid value encountered in power\n",
      "  return (1 - np.exp(-((t*beta)**(1/alpha))))\n",
      "../APM/BIN/APM_Module_Tools.py:35: RuntimeWarning: divide by zero encountered in double_scalars\n",
      "  return (1 - np.exp(-((t*beta)**(1/alpha))))\n",
      "../APM/BIN/APM_Module_Tools.py:35: RuntimeWarning: invalid value encountered in power\n",
      "  return (1 - np.exp(-((t*beta)**(1/alpha))))\n",
      "/home/dlalvareza/anaconda3/lib/python3.7/site-packages/pandas/core/frame.py:1554: FutureWarning: Using short name for 'orient' is deprecated. Only the options: ('dict', list, 'series', 'split', 'records', 'index') will be used in a future version. Use one of the above to silence this warning.\n",
      "  FutureWarning,\n",
      "../APM/BIN/APM_Module_Tools.py:35: RuntimeWarning: invalid value encountered in power\n",
      "  return (1 - np.exp(-((t*beta)**(1/alpha))))\n",
      "../APM/BIN/APM_Module_Tools.py:35: RuntimeWarning: divide by zero encountered in double_scalars\n",
      "  return (1 - np.exp(-((t*beta)**(1/alpha))))\n",
      "../APM/BIN/APM_Module_Tools.py:35: RuntimeWarning: invalid value encountered in power\n",
      "  return (1 - np.exp(-((t*beta)**(1/alpha))))\n",
      "../APM/BIN/APM_Module_Tools.py:35: RuntimeWarning: divide by zero encountered in double_scalars\n",
      "  return (1 - np.exp(-((t*beta)**(1/alpha))))\n",
      "../APM/BIN/APM_Module_Tools.py:35: RuntimeWarning: invalid value encountered in power\n",
      "  return (1 - np.exp(-((t*beta)**(1/alpha))))\n",
      "../APM/BIN/APM_Module_Tools.py:35: RuntimeWarning: divide by zero encountered in power\n",
      "  return (1 - np.exp(-((t*beta)**(1/alpha))))\n",
      "../APM/BIN/APM_Module_Tools.py:35: RuntimeWarning: overflow encountered in power\n",
      "  return (1 - np.exp(-((t*beta)**(1/alpha))))\n",
      "../APM/BIN/APM_Module_Tools.py:35: RuntimeWarning: invalid value encountered in power\n",
      "  return (1 - np.exp(-((t*beta)**(1/alpha))))\n",
      "../APM/BIN/APM_Module_Tools.py:35: RuntimeWarning: divide by zero encountered in double_scalars\n",
      "  return (1 - np.exp(-((t*beta)**(1/alpha))))\n",
      "../APM/BIN/APM_Module_Tools.py:35: RuntimeWarning: invalid value encountered in power\n",
      "  return (1 - np.exp(-((t*beta)**(1/alpha))))\n",
      "../APM/BIN/APM_Module_Tools.py:35: RuntimeWarning: divide by zero encountered in double_scalars\n",
      "  return (1 - np.exp(-((t*beta)**(1/alpha))))\n",
      "../APM/BIN/APM_Module_Tools.py:35: RuntimeWarning: invalid value encountered in power\n",
      "  return (1 - np.exp(-((t*beta)**(1/alpha))))\n",
      "../APM/BIN/APM_Module_Tools.py:35: RuntimeWarning: divide by zero encountered in power\n",
      "  return (1 - np.exp(-((t*beta)**(1/alpha))))\n",
      "/home/dlalvareza/anaconda3/lib/python3.7/site-packages/pandas/core/frame.py:1554: FutureWarning: Using short name for 'orient' is deprecated. Only the options: ('dict', list, 'series', 'split', 'records', 'index') will be used in a future version. Use one of the above to silence this warning.\n",
      "  FutureWarning,\n",
      "../APM/BIN/APM_Module_Tools.py:35: RuntimeWarning: invalid value encountered in power\n",
      "  return (1 - np.exp(-((t*beta)**(1/alpha))))\n",
      "../APM/BIN/APM_Module_Tools.py:35: RuntimeWarning: divide by zero encountered in double_scalars\n",
      "  return (1 - np.exp(-((t*beta)**(1/alpha))))\n",
      "../APM/BIN/APM_Module_Tools.py:35: RuntimeWarning: invalid value encountered in power\n",
      "  return (1 - np.exp(-((t*beta)**(1/alpha))))\n",
      "../APM/BIN/APM_Module_Tools.py:35: RuntimeWarning: invalid value encountered in power\n",
      "  return (1 - np.exp(-((t*beta)**(1/alpha))))\n",
      "../APM/BIN/APM_Module_Tools.py:35: RuntimeWarning: divide by zero encountered in double_scalars\n",
      "  return (1 - np.exp(-((t*beta)**(1/alpha))))\n",
      "../APM/BIN/APM_Module_Tools.py:35: RuntimeWarning: invalid value encountered in power\n",
      "  return (1 - np.exp(-((t*beta)**(1/alpha))))\n",
      "/home/dlalvareza/anaconda3/lib/python3.7/site-packages/pandas/core/frame.py:1554: FutureWarning: Using short name for 'orient' is deprecated. Only the options: ('dict', list, 'series', 'split', 'records', 'index') will be used in a future version. Use one of the above to silence this warning.\n",
      "  FutureWarning,\n",
      "../APM/BIN/APM_Module_Tools.py:35: RuntimeWarning: invalid value encountered in power\n",
      "  return (1 - np.exp(-((t*beta)**(1/alpha))))\n",
      "../APM/BIN/APM_Module_Tools.py:35: RuntimeWarning: invalid value encountered in power\n",
      "  return (1 - np.exp(-((t*beta)**(1/alpha))))\n",
      "../APM/BIN/APM_Module_Tools.py:35: RuntimeWarning: divide by zero encountered in double_scalars\n",
      "  return (1 - np.exp(-((t*beta)**(1/alpha))))\n",
      "../APM/BIN/APM_Module_Tools.py:35: RuntimeWarning: invalid value encountered in power\n",
      "  return (1 - np.exp(-((t*beta)**(1/alpha))))\n",
      "../APM/BIN/APM_Module_Tools.py:35: RuntimeWarning: divide by zero encountered in double_scalars\n",
      "  return (1 - np.exp(-((t*beta)**(1/alpha))))\n",
      "../APM/BIN/APM_Module_Tools.py:35: RuntimeWarning: invalid value encountered in power\n",
      "  return (1 - np.exp(-((t*beta)**(1/alpha))))\n",
      "/home/dlalvareza/anaconda3/lib/python3.7/site-packages/pandas/core/frame.py:1554: FutureWarning: Using short name for 'orient' is deprecated. Only the options: ('dict', list, 'series', 'split', 'records', 'index') will be used in a future version. Use one of the above to silence this warning.\n",
      "  FutureWarning,\n"
     ]
    }
   ],
   "source": [
    "Cont_A.Load_Growth_Update(load_growth)\n",
    "Assets  = APM(case_settings,load_growth)"
   ]
  },
  {
   "cell_type": "markdown",
   "metadata": {},
   "source": [
    "## 1.4 Monte-Carlo Simulations"
   ]
  },
  {
   "cell_type": "code",
   "execution_count": 7,
   "metadata": {},
   "outputs": [],
   "source": [
    "date_beg = datetime.datetime(2020, 1, 1,1)  "
   ]
  },
  {
   "cell_type": "code",
   "execution_count": 8,
   "metadata": {
    "scrolled": false
   },
   "outputs": [
    {
     "name": "stdout",
     "output_type": "stream",
     "text": [
      "Number of processors:  12\n"
     ]
    }
   ],
   "source": [
    "import multiprocessing as mp\n",
    "print(\"Number of processors: \", mp.cpu_count())\n",
    "pool      = mp.Pool(mp.cpu_count()) "
   ]
  },
  {
   "cell_type": "code",
   "execution_count": 9,
   "metadata": {},
   "outputs": [],
   "source": [
    "def parallel_test(x):\n",
    "    res_dic = Assets.Risk_Index_During_Time(Cont_A,date_beg,n_hours,x)\n",
    "    return res_dic"
   ]
  },
  {
   "cell_type": "code",
   "execution_count": 10,
   "metadata": {},
   "outputs": [],
   "source": [
    "if __name__ == '__main__':\n",
    "    pool      = mp.Pool(mp.cpu_count()) \n",
    "    trails    =  range(N)\n",
    "    rest      = pool.map(parallel_test, trails)"
   ]
  },
  {
   "cell_type": "code",
   "execution_count": 11,
   "metadata": {},
   "outputs": [
    {
     "name": "stdout",
     "output_type": "stream",
     "text": [
      "        Aux_0  CB_0_1  CB_0_12  TR_0_1  TR_0_12  CB_R1  CB_CI1  Line_1_2  \\\n",
      "0       False   False    False   False    False  False   False     False   \n",
      "1       False   False    False   False    False  False   False     False   \n",
      "2       False   False    False   False    False  False   False     False   \n",
      "3       False   False    False   False    False  False   False     False   \n",
      "4       False   False    False   False    False  False   False     False   \n",
      "...       ...     ...      ...     ...      ...    ...     ...       ...   \n",
      "297717  False   False    False   False    False  False   False     False   \n",
      "297718  False   False    False   False    False  False   False     False   \n",
      "297719  False   False    False   False    False  False   False     False   \n",
      "297720  False   False    False   False    False  False   False     False   \n",
      "297721  False   False    False   False    False  False   False     False   \n",
      "\n",
      "        CB_R12  CB_CI12  ...  Line_7_8  CHP_9  PV_10   ST_5  CB_CI9   WT_7  \\\n",
      "0        False    False  ...     False  False  False  False   False  False   \n",
      "1        False    False  ...     False  False  False  False   False  False   \n",
      "2        False    False  ...     False  False  False  False   False  False   \n",
      "3        False    False  ...     False  False  False  False   False  False   \n",
      "4        False    False  ...     False  False  False  False   False  False   \n",
      "...        ...      ...  ...       ...    ...    ...    ...     ...    ...   \n",
      "297717   False    False  ...     False   True  False  False   False  False   \n",
      "297718   False    False  ...     False   True  False  False   False  False   \n",
      "297719   False    False  ...     False   True  False  False   False  False   \n",
      "297720   False    False  ...     False   True  False  False   False  False   \n",
      "297721   False    False  ...     False   True  False  False   False  False   \n",
      "\n",
      "                      Date      Cr    SAIDI  Ite  \n",
      "0      2021-02-12 21:00:00   8.953  0.06449    0  \n",
      "1      2021-02-12 22:00:00   8.341  0.06449    0  \n",
      "2      2021-02-12 23:00:00   7.522  0.06449    0  \n",
      "3      2021-02-13 00:00:00   6.404  0.06449    0  \n",
      "4      2021-02-13 01:00:00   6.348  0.06449    0  \n",
      "...                    ...     ...      ...  ...  \n",
      "297717 2039-11-26 15:00:00  11.241  0.06449   19  \n",
      "297718 2039-11-26 16:00:00  10.871  0.06449   19  \n",
      "297719 2039-11-26 17:00:00  10.481  0.06449   19  \n",
      "297720 2039-11-26 18:00:00  10.693  0.06449   19  \n",
      "297721 2039-11-26 19:00:00  11.731  0.06449   19  \n",
      "\n",
      "[297722 rows x 22 columns]\n"
     ]
    }
   ],
   "source": [
    "LoL = []\n",
    "for r in rest:\n",
    "    LoL.extend(r)\n",
    "df = pd.DataFrame(LoL)\n",
    "print(df)\n",
    "\n",
    "#df.to_feather(\"RESULTS/Pro_Assessment_Results.ft\")"
   ]
  },
  {
   "cell_type": "code",
   "execution_count": 12,
   "metadata": {},
   "outputs": [
    {
     "name": "stdout",
     "output_type": "stream",
     "text": [
      "2021-07-12 09:01:27.620640\n"
     ]
    }
   ],
   "source": [
    "store      = pd.HDFStore(results_path+'Results_ACM.h5')\n",
    "store.put('df', df)\n",
    "store.get_storer('df').attrs['TITLE'] = 'ACM_Report'\n",
    "date      = datetime.datetime.now() #datetime.date(datetime.now())\n",
    "print(date)\n",
    "store.get_storer('df').attrs['Date'] = date\n",
    "store.close()"
   ]
  }
 ],
 "metadata": {
  "kernelspec": {
   "display_name": "Python 3",
   "language": "python",
   "name": "python3"
  },
  "language_info": {
   "codemirror_mode": {
    "name": "ipython",
    "version": 3
   },
   "file_extension": ".py",
   "mimetype": "text/x-python",
   "name": "python",
   "nbconvert_exporter": "python",
   "pygments_lexer": "ipython3",
   "version": "3.7.7"
  }
 },
 "nbformat": 4,
 "nbformat_minor": 4
}
